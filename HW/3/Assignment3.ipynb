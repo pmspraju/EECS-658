{
 "cells": [
  {
   "cell_type": "markdown",
   "id": "certain-treasury",
   "metadata": {},
   "source": [
    "# Assignment 3"
   ]
  },
  {
   "cell_type": "markdown",
   "id": "fiscal-quarterly",
   "metadata": {},
   "source": [
    "## Part 1"
   ]
  },
  {
   "cell_type": "code",
   "execution_count": 1,
   "id": "resistant-holocaust",
   "metadata": {},
   "outputs": [
    {
     "name": "stdout",
     "output_type": "stream",
     "text": [
      "Python: 3.8.8 (default, Feb 24 2021, 15:54:32) [MSC v.1928 64 bit (AMD64)]\n",
      "scipy: 1.7.1\n",
      "numpy: 1.19.2\n",
      "pandas: 1.1.3\n",
      "sklearn: 0.24.2\n",
      "Hello World!\n"
     ]
    }
   ],
   "source": [
    "# Import relevant libraries\n",
    "import os\n",
    "import sys\n",
    "print('Python: {}'.format(sys.version))\n",
    "\n",
    "import scipy\n",
    "print('scipy: {}'.format(scipy.__version__))\n",
    "\n",
    "import numpy as np\n",
    "print('numpy: {}'.format(np.__version__))\n",
    "\n",
    "import pandas as pd\n",
    "print('pandas: {}'.format(pd.__version__))\n",
    "\n",
    "import sklearn\n",
    "print('sklearn: {}'.format(sklearn.__version__))\n",
    "\n",
    "print(\"Hello World!\")"
   ]
  },
  {
   "cell_type": "code",
   "execution_count": 2,
   "id": "consolidated-james",
   "metadata": {},
   "outputs": [],
   "source": [
    "#Function to load the data\n",
    "def loadData(path,filename):\n",
    "    try:\n",
    "             files = os.listdir(path)\n",
    "             for f in files:\n",
    "                 if f == filename:\n",
    "                     data = pd.read_csv(os.path.join(path,f))\n",
    "                     return data\n",
    "            \n",
    "    except Exception as ex:\n",
    "           print (\"-----------------------------------------------------------------------\")\n",
    "           template = \"An exception of type {0} occurred. Arguments:\\n{1!r}\"\n",
    "           message = template.format(type(ex).__name__, ex.args)\n",
    "           print (message)"
   ]
  },
  {
   "cell_type": "code",
   "execution_count": 3,
   "id": "blank-pastor",
   "metadata": {},
   "outputs": [],
   "source": [
    "# Deduce the metrics\n",
    "from sklearn.metrics import accuracy_score, confusion_matrix,ConfusionMatrixDisplay\n",
    "\n",
    "def metrics(test,pred,modelname):\n",
    "    try:\n",
    "        print(\"Number of mislabeled points out of a total %d points : %d\" % (len(test), (test != pred).sum()))\n",
    "        \n",
    "        # Accuracy\n",
    "        acc = accuracy_score(test, pred)\n",
    "        print('Accuracy of the {:s} model: {:f}'.format(modelname,acc))\n",
    "        \n",
    "        # Confusion matrix\n",
    "        cm=confusion_matrix(test,pred)\n",
    "        disp = ConfusionMatrixDisplay(confusion_matrix=cm,\n",
    "                                      display_labels=['Iris-setosa','Iris-versicolor','Iris-virginica'])\n",
    "        _=disp.plot() \n",
    "        disp.ax_.set(title=modelname)\n",
    "        print()\n",
    "            \n",
    "    except Exception as ex:\n",
    "           print (\"-----------------------------------------------------------------------\")\n",
    "           template = \"An exception of type {0} occurred. Arguments:\\n{1!r}\"\n",
    "           message = template.format(type(ex).__name__, ex.args)\n",
    "           print (message)"
   ]
  },
  {
   "cell_type": "code",
   "execution_count": 4,
   "id": "paperback-plant",
   "metadata": {},
   "outputs": [
    {
     "data": {
      "text/html": [
       "<div>\n",
       "<style scoped>\n",
       "    .dataframe tbody tr th:only-of-type {\n",
       "        vertical-align: middle;\n",
       "    }\n",
       "\n",
       "    .dataframe tbody tr th {\n",
       "        vertical-align: top;\n",
       "    }\n",
       "\n",
       "    .dataframe thead th {\n",
       "        text-align: right;\n",
       "    }\n",
       "</style>\n",
       "<table border=\"1\" class=\"dataframe\">\n",
       "  <thead>\n",
       "    <tr style=\"text-align: right;\">\n",
       "      <th></th>\n",
       "      <th>sepal-length</th>\n",
       "      <th>sepal-width</th>\n",
       "      <th>petal-length</th>\n",
       "      <th>petal-width</th>\n",
       "      <th>class</th>\n",
       "    </tr>\n",
       "  </thead>\n",
       "  <tbody>\n",
       "    <tr>\n",
       "      <th>0</th>\n",
       "      <td>5.1</td>\n",
       "      <td>3.5</td>\n",
       "      <td>1.4</td>\n",
       "      <td>0.2</td>\n",
       "      <td>Iris-setosa</td>\n",
       "    </tr>\n",
       "    <tr>\n",
       "      <th>1</th>\n",
       "      <td>4.9</td>\n",
       "      <td>3.0</td>\n",
       "      <td>1.4</td>\n",
       "      <td>0.2</td>\n",
       "      <td>Iris-setosa</td>\n",
       "    </tr>\n",
       "    <tr>\n",
       "      <th>2</th>\n",
       "      <td>4.7</td>\n",
       "      <td>3.2</td>\n",
       "      <td>1.3</td>\n",
       "      <td>0.2</td>\n",
       "      <td>Iris-setosa</td>\n",
       "    </tr>\n",
       "    <tr>\n",
       "      <th>3</th>\n",
       "      <td>4.6</td>\n",
       "      <td>3.1</td>\n",
       "      <td>1.5</td>\n",
       "      <td>0.2</td>\n",
       "      <td>Iris-setosa</td>\n",
       "    </tr>\n",
       "    <tr>\n",
       "      <th>4</th>\n",
       "      <td>5.0</td>\n",
       "      <td>3.6</td>\n",
       "      <td>1.4</td>\n",
       "      <td>0.2</td>\n",
       "      <td>Iris-setosa</td>\n",
       "    </tr>\n",
       "    <tr>\n",
       "      <th>...</th>\n",
       "      <td>...</td>\n",
       "      <td>...</td>\n",
       "      <td>...</td>\n",
       "      <td>...</td>\n",
       "      <td>...</td>\n",
       "    </tr>\n",
       "    <tr>\n",
       "      <th>145</th>\n",
       "      <td>6.7</td>\n",
       "      <td>3.0</td>\n",
       "      <td>5.2</td>\n",
       "      <td>2.3</td>\n",
       "      <td>Iris-virginica</td>\n",
       "    </tr>\n",
       "    <tr>\n",
       "      <th>146</th>\n",
       "      <td>6.3</td>\n",
       "      <td>2.5</td>\n",
       "      <td>5.0</td>\n",
       "      <td>1.9</td>\n",
       "      <td>Iris-virginica</td>\n",
       "    </tr>\n",
       "    <tr>\n",
       "      <th>147</th>\n",
       "      <td>6.5</td>\n",
       "      <td>3.0</td>\n",
       "      <td>5.2</td>\n",
       "      <td>2.0</td>\n",
       "      <td>Iris-virginica</td>\n",
       "    </tr>\n",
       "    <tr>\n",
       "      <th>148</th>\n",
       "      <td>6.2</td>\n",
       "      <td>3.4</td>\n",
       "      <td>5.4</td>\n",
       "      <td>2.3</td>\n",
       "      <td>Iris-virginica</td>\n",
       "    </tr>\n",
       "    <tr>\n",
       "      <th>149</th>\n",
       "      <td>5.9</td>\n",
       "      <td>3.0</td>\n",
       "      <td>5.1</td>\n",
       "      <td>1.8</td>\n",
       "      <td>Iris-virginica</td>\n",
       "    </tr>\n",
       "  </tbody>\n",
       "</table>\n",
       "<p>150 rows × 5 columns</p>\n",
       "</div>"
      ],
      "text/plain": [
       "     sepal-length  sepal-width  petal-length  petal-width           class\n",
       "0             5.1          3.5           1.4          0.2     Iris-setosa\n",
       "1             4.9          3.0           1.4          0.2     Iris-setosa\n",
       "2             4.7          3.2           1.3          0.2     Iris-setosa\n",
       "3             4.6          3.1           1.5          0.2     Iris-setosa\n",
       "4             5.0          3.6           1.4          0.2     Iris-setosa\n",
       "..            ...          ...           ...          ...             ...\n",
       "145           6.7          3.0           5.2          2.3  Iris-virginica\n",
       "146           6.3          2.5           5.0          1.9  Iris-virginica\n",
       "147           6.5          3.0           5.2          2.0  Iris-virginica\n",
       "148           6.2          3.4           5.4          2.3  Iris-virginica\n",
       "149           5.9          3.0           5.1          1.8  Iris-virginica\n",
       "\n",
       "[150 rows x 5 columns]"
      ]
     },
     "metadata": {},
     "output_type": "display_data"
    },
    {
     "name": "stdout",
     "output_type": "stream",
     "text": [
      "Classes of the label:\n",
      "['Iris-setosa' 'Iris-versicolor' 'Iris-virginica']\n"
     ]
    }
   ],
   "source": [
    "# Read the file\n",
    "path = r'C:\\Users\\pmspr\\Documents\\HS\\MS\\Sem 6\\EECS 658\\Data'\n",
    "filename = \"iris.csv\"\n",
    "data = loadData(path,filename)\n",
    "display(data)\n",
    "\n",
    "X = data\n",
    "y = data.pop('class')\n",
    "y_asis = y\n",
    "\n",
    "# Encode the label\n",
    "from sklearn import preprocessing\n",
    "le = preprocessing.LabelEncoder()\n",
    "le.fit(y)\n",
    "\n",
    "print('Classes of the label:')\n",
    "print(le.classes_)\n",
    "\n",
    "y = list(le.transform(y))"
   ]
  },
  {
   "cell_type": "code",
   "execution_count": 5,
   "id": "political-patent",
   "metadata": {},
   "outputs": [
    {
     "name": "stdout",
     "output_type": "stream",
     "text": [
      "Number of samples in fold1:75\n",
      "Number of samples in fold2:75\n"
     ]
    }
   ],
   "source": [
    "# Split the data\n",
    "from sklearn.model_selection import train_test_split\n",
    "\n",
    "X_train, X_test, y_train, y_test = train_test_split(X, y, test_size=0.5, random_state=1)\n",
    "\n",
    "#Derive two folds for cross validation\n",
    "X_train1 = X_train; y_train1 = y_train\n",
    "X_test1 = X_test; y_test1 = y_test\n",
    "\n",
    "X_train2 = X_test; y_train2 = y_test\n",
    "X_test2 = X_train; y_test2 = y_train\n",
    "\n",
    "print('Number of samples in fold1:{}'.format(len(X_train1)))\n",
    "print('Number of samples in fold2:{}'.format(len(X_train2)))"
   ]
  },
  {
   "cell_type": "code",
   "execution_count": 6,
   "id": "processed-welcome",
   "metadata": {},
   "outputs": [
    {
     "name": "stdout",
     "output_type": "stream",
     "text": [
      "Number of mislabeled points out of a total 150 points : 5\n",
      "Accuracy of the Linear Regression model: 0.966667\n",
      "\n"
     ]
    },
    {
     "data": {
      "image/png": "[encoded data removed]",
      "text/plain": [
       "<Figure size 432x288 with 2 Axes>"
      ]
     },
     "metadata": {
      "needs_background": "light"
     },
     "output_type": "display_data"
    }
   ],
   "source": [
    "# Model-1-Linear regression\n",
    "from sklearn.linear_model import LinearRegression\n",
    "m1 = LinearRegression()\n",
    "\n",
    "# fold1\n",
    "clf1 = m1.fit(X_train1,y_train1)\n",
    "y_pred1 = clf1.predict(X_test1)\n",
    "\n",
    "# fold2\n",
    "clf1 = m1.fit(X_train2,y_train2)\n",
    "y_pred2 = clf1.predict(X_test2)\n",
    "\n",
    "# Inverse transform\n",
    "y_raw   = [*y_pred1, *y_pred2]\n",
    "y_predr = le.inverse_transform([round(x) for x in [*y_pred1, *y_pred2]])\n",
    "y_testr = le.inverse_transform([*y_test1, *y_test2])\n",
    "\n",
    "# Metrics\n",
    "metrics(y_testr,y_predr,'Linear Regression')\n",
    "\n",
    "# Test\n",
    "with pd.ExcelWriter('test.xlsx') as writer:\n",
    "    pd.DataFrame({'actual' : y_testr,'pred' : y_predr, 'raw' : y_raw}).to_excel(writer,sheet_name='linearReg',index=False)"
   ]
  },
  {
   "cell_type": "code",
   "execution_count": 7,
   "id": "married-stage",
   "metadata": {},
   "outputs": [
    {
     "name": "stdout",
     "output_type": "stream",
     "text": [
      "Number of mislabeled points out of a total 150 points : 5\n",
      "Accuracy of the Polynomial Regression with degree2 model: 0.966667\n",
      "\n"
     ]
    },
    {
     "data": {
      "image/png": "[encoded data removed]",
      "text/plain": [
       "<Figure size 432x288 with 2 Axes>"
      ]
     },
     "metadata": {
      "needs_background": "light"
     },
     "output_type": "display_data"
    }
   ],
   "source": [
    "# Model-2-Polynomial regression with degree 2\n",
    "from sklearn.preprocessing import PolynomialFeatures\n",
    "from sklearn.pipeline import Pipeline\n",
    "\n",
    "# Create a pipeline \n",
    "# step1 - Create polynomial features\n",
    "# step2 - Use linear regression\n",
    "m2 = Pipeline([('poly', PolynomialFeatures(degree=2)),\n",
    "                  ('linear', LinearRegression(fit_intercept=False))])\n",
    "\n",
    "# fold1\n",
    "clf2 = m2.fit(X_train1,y_train1)\n",
    "y_pred1 = clf2.predict(X_test1)\n",
    "\n",
    "# fold2\n",
    "clf2 = m2.fit(X_train2,y_train2)\n",
    "y_pred2 = clf2.predict(X_test2)\n",
    "\n",
    "# Inverse transform\n",
    "y_raw   = [*y_pred1, *y_pred2]\n",
    "y_predr = [round(x) for x in [*y_pred1, *y_pred2]]\n",
    "y_predr = le.inverse_transform([2 if v >= 3 else 0 if v < 0 else v for v in y_predr])\n",
    "y_testr = le.inverse_transform([*y_test1, *y_test2])\n",
    "\n",
    "# Metrics\n",
    "metrics(y_testr,y_predr, 'Polynomial Regression with degree2')\n",
    "\n",
    "# Test \n",
    "with pd.ExcelWriter('test.xlsx', mode='a') as writer:\n",
    "    pd.DataFrame({'actual' : y_testr, 'pred' : y_predr,'raw' : y_raw}).to_excel(writer,sheet_name='PolyReg2',index=False)"
   ]
  },
  {
   "cell_type": "code",
   "execution_count": 8,
   "id": "continuous-knight",
   "metadata": {},
   "outputs": [
    {
     "name": "stdout",
     "output_type": "stream",
     "text": [
      "Number of mislabeled points out of a total 150 points : 13\n",
      "Accuracy of the Polynomial Regression with degree3 model: 0.913333\n",
      "\n"
     ]
    },
    {
     "data": {
      "image/png": "[encoded data removed]",
      "text/plain": [
       "<Figure size 432x288 with 2 Axes>"
      ]
     },
     "metadata": {
      "needs_background": "light"
     },
     "output_type": "display_data"
    }
   ],
   "source": [
    "# Model-3-Polynomial regression with degree 3\n",
    "from sklearn.preprocessing import PolynomialFeatures\n",
    "from sklearn.pipeline import Pipeline\n",
    "\n",
    "# Create a pipeline \n",
    "# step1 - Create polynomial features\n",
    "# step2 - Use linear regression\n",
    "m3 = Pipeline([('poly', PolynomialFeatures(degree=3)),\n",
    "                  ('linear', LinearRegression(fit_intercept=False))])\n",
    "\n",
    "# fold1\n",
    "clf3 = m3.fit(X_train1,y_train1)\n",
    "y_pred1 = clf3.predict(X_test1)\n",
    "\n",
    "# fold2\n",
    "clf3 = m3.fit(X_train2,y_train2)\n",
    "y_pred2 = clf3.predict(X_test2)\n",
    "\n",
    "# Inverse transform\n",
    "y_raw   = [*y_pred1, *y_pred2]\n",
    "y_predr = [round(x) for x in [*y_pred1, *y_pred2]]\n",
    "y_predr = le.inverse_transform([2 if v >= 3 else 0 if v < 0 else v for v in y_predr])\n",
    "y_testr = le.inverse_transform([*y_test1, *y_test2])\n",
    "\n",
    "# Metrics\n",
    "metrics(y_testr,y_predr, 'Polynomial Regression with degree3')\n",
    "\n",
    "# Test \n",
    "with pd.ExcelWriter('test.xlsx', mode='a') as writer:\n",
    "    pd.DataFrame({'actual' : y_testr, 'pred' : y_predr,'raw' : y_raw}).to_excel(writer,sheet_name='PolyReg3',index=False)"
   ]
  },
  {
   "cell_type": "code",
   "execution_count": 9,
   "id": "difficult-wheel",
   "metadata": {},
   "outputs": [
    {
     "name": "stdout",
     "output_type": "stream",
     "text": [
      "Number of mislabeled points out of a total 150 points : 6\n",
      "Accuracy of the Naive Bayes model: 0.960000\n",
      "\n"
     ]
    },
    {
     "data": {
      "image/png": "[encoded data removed]",
      "text/plain": [
       "<Figure size 432x288 with 2 Axes>"
      ]
     },
     "metadata": {
      "needs_background": "light"
     },
     "output_type": "display_data"
    }
   ],
   "source": [
    "# Model-4-Naive Bayesian classifier\n",
    "from sklearn.naive_bayes import GaussianNB\n",
    "m4 = GaussianNB()\n",
    "#clf4 = gnb.fit(X_train, y_train)\n",
    "\n",
    "# fold1\n",
    "clf4 = m4.fit(X_train1,y_train1)\n",
    "y_pred1 = clf4.predict(X_test1)\n",
    "\n",
    "# fold2\n",
    "clf4 = m4.fit(X_train2,y_train2)\n",
    "y_pred2 = clf4.predict(X_test2)\n",
    "\n",
    "# Inverse transform\n",
    "y_raw   = [*y_pred1, *y_pred2]\n",
    "#y_predr = [round(x) for x in [*y_pred1, *y_pred2]]\n",
    "y_predr = le.inverse_transform(y_raw)\n",
    "y_testr = le.inverse_transform([*y_test1, *y_test2])\n",
    "\n",
    "# Metrics\n",
    "metrics(y_testr,y_predr, 'Naive Bayes')\n",
    "\n",
    "# Test \n",
    "with pd.ExcelWriter('test.xlsx', mode='a') as writer:\n",
    "    pd.DataFrame({'actual' : y_testr, 'pred' : y_predr,'raw' : y_raw}).to_excel(writer,sheet_name='NaiveBayes',index=False)"
   ]
  },
  {
   "cell_type": "code",
   "execution_count": 10,
   "id": "center-edmonton",
   "metadata": {},
   "outputs": [
    {
     "name": "stdout",
     "output_type": "stream",
     "text": [
      "Number of mislabeled points out of a total 150 points : 4\n",
      "Accuracy of the K Neighbour model: 0.973333\n",
      "\n"
     ]
    },
    {
     "data": {
      "image/png": "[encoded data removed]",
      "text/plain": [
       "<Figure size 432x288 with 2 Axes>"
      ]
     },
     "metadata": {
      "needs_background": "light"
     },
     "output_type": "display_data"
    }
   ],
   "source": [
    "# Model-5-K-Neighbors classifier\n",
    "from sklearn.neighbors import KNeighborsClassifier\n",
    "\n",
    "m5 = KNeighborsClassifier(n_neighbors=10)\n",
    "\n",
    "# fold1\n",
    "clf5 = m5.fit(X_train1,y_train1)\n",
    "y_pred1 = clf5.predict(X_test1)\n",
    "\n",
    "# fold2\n",
    "clf5 = m5.fit(X_train2,y_train2)\n",
    "y_pred2 = clf5.predict(X_test2)\n",
    "\n",
    "# Inverse transform\n",
    "y_raw   = [*y_pred1, *y_pred2]\n",
    "#y_predr = [round(x) for x in [*y_pred1, *y_pred2]]\n",
    "y_predr = le.inverse_transform(y_raw)\n",
    "y_testr = le.inverse_transform([*y_test1, *y_test2])\n",
    "\n",
    "# Metrics\n",
    "metrics(y_testr,y_predr, 'K Neighbour')\n",
    "\n",
    "# Test \n",
    "with pd.ExcelWriter('test.xlsx', mode='a') as writer:\n",
    "    pd.DataFrame({'actual' : y_testr, 'pred' : y_predr,'raw' : y_raw}).to_excel(writer,sheet_name='KNN',index=False)"
   ]
  },
  {
   "cell_type": "code",
   "execution_count": 11,
   "id": "molecular-intention",
   "metadata": {},
   "outputs": [
    {
     "name": "stdout",
     "output_type": "stream",
     "text": [
      "Number of mislabeled points out of a total 150 points : 4\n",
      "Accuracy of the Linear Discriminant Analysis model: 0.973333\n",
      "\n"
     ]
    },
    {
     "data": {
      "image/png": "[encoded data removed]",
      "text/plain": [
       "<Figure size 432x288 with 2 Axes>"
      ]
     },
     "metadata": {
      "needs_background": "light"
     },
     "output_type": "display_data"
    }
   ],
   "source": [
    "# Model-6-K-LDA (LinearDiscriminantAnalysis) classifier\n",
    "from sklearn.discriminant_analysis import LinearDiscriminantAnalysis\n",
    "\n",
    "m6 = LinearDiscriminantAnalysis()\n",
    "\n",
    "# fold1\n",
    "clf6 = m6.fit(X_train1,y_train1)\n",
    "y_pred1 = clf6.predict(X_test1)\n",
    "\n",
    "# fold2\n",
    "clf6 = m6.fit(X_train2,y_train2)\n",
    "y_pred2 = clf6.predict(X_test2)\n",
    "\n",
    "# Inverse transform\n",
    "y_raw   = [*y_pred1, *y_pred2]\n",
    "#y_predr = [round(x) for x in [*y_pred1, *y_pred2]]\n",
    "y_predr = le.inverse_transform(y_raw)\n",
    "y_testr = le.inverse_transform([*y_test1, *y_test2])\n",
    "\n",
    "# Metrics\n",
    "metrics(y_testr,y_predr, 'Linear Discriminant Analysis')\n",
    "\n",
    "# Test \n",
    "with pd.ExcelWriter('test.xlsx', mode='a') as writer:\n",
    "    pd.DataFrame({'actual' : y_testr, 'pred' : y_predr,'raw' : y_raw}).to_excel(writer,sheet_name='LDA',index=False)"
   ]
  },
  {
   "cell_type": "code",
   "execution_count": 12,
   "id": "sensitive-parcel",
   "metadata": {},
   "outputs": [
    {
     "name": "stdout",
     "output_type": "stream",
     "text": [
      "Number of mislabeled points out of a total 150 points : 6\n",
      "Accuracy of the Quadratic Discriminant Analysis model: 0.960000\n",
      "\n"
     ]
    },
    {
     "data": {
      "image/png": "[encoded data removed]",
      "text/plain": [
       "<Figure size 432x288 with 2 Axes>"
      ]
     },
     "metadata": {
      "needs_background": "light"
     },
     "output_type": "display_data"
    }
   ],
   "source": [
    "# Model-7-K-QDA (QuadraticDiscriminantAnalysis) classifier\n",
    "from sklearn.discriminant_analysis import QuadraticDiscriminantAnalysis\n",
    "\n",
    "m7 = QuadraticDiscriminantAnalysis()\n",
    "\n",
    "# fold1\n",
    "clf7 = m7.fit(X_train1,y_train1)\n",
    "y_pred1 = clf7.predict(X_test1)\n",
    "\n",
    "# fold2\n",
    "clf7 = m7.fit(X_train2,y_train2)\n",
    "y_pred2 = clf7.predict(X_test2)\n",
    "\n",
    "# Inverse transform\n",
    "y_raw   = [*y_pred1, *y_pred2]\n",
    "#y_predr = [round(x) for x in [*y_pred1, *y_pred2]]\n",
    "y_predr = le.inverse_transform(y_raw)\n",
    "y_testr = le.inverse_transform([*y_test1, *y_test2])\n",
    "\n",
    "# Metrics\n",
    "metrics(y_testr,y_predr, 'Quadratic Discriminant Analysis')\n",
    "\n",
    "# Test \n",
    "with pd.ExcelWriter('test.xlsx', mode='a') as writer:\n",
    "    pd.DataFrame({'actual' : y_testr, 'pred' : y_predr,'raw' : y_raw}).to_excel(writer,sheet_name='QDA',index=False)"
   ]
  },
  {
   "cell_type": "code",
   "execution_count": 41,
   "id": "equal-aircraft",
   "metadata": {},
   "outputs": [
    {
     "name": "stdout",
     "output_type": "stream",
     "text": [
      "Number of mislabeled points out of a total 150 points : 3\n",
      "Accuracy of the Support Vector Machines - Linear SVC model: 0.980000\n",
      "\n"
     ]
    },
    {
     "data": {
      "image/png": "[encoded data removed]",
      "text/plain": [
       "<Figure size 432x288 with 2 Axes>"
      ]
     },
     "metadata": {
      "needs_background": "light"
     },
     "output_type": "display_data"
    }
   ],
   "source": [
    "# Model-8-Support Vector Machine - Linear SVC\n",
    "from sklearn.svm import SVC\n",
    "m8 = SVC(gamma=.1, kernel='linear', probability=True)\n",
    "\n",
    "# fold1\n",
    "clf8 = m8.fit(X_train1,y_train1)\n",
    "y_pred1 = clf8.predict(X_test1)\n",
    "\n",
    "# fold2\n",
    "clf8 = m8.fit(X_train2,y_train2)\n",
    "y_pred2 = clf8.predict(X_test2)\n",
    "\n",
    "# Inverse transform\n",
    "y_raw   = [*y_pred1, *y_pred2]\n",
    "y_predr = le.inverse_transform(y_raw)\n",
    "y_testr = le.inverse_transform([*y_test1, *y_test2])\n",
    "\n",
    "# Metrics\n",
    "metrics(y_testr,y_predr, 'Support Vector Machines - Linear SVC')\n",
    "\n",
    "# Test \n",
    "with pd.ExcelWriter('test.xlsx', mode='a') as writer:\n",
    "    pd.DataFrame({'actual' : y_testr, 'pred' : y_predr,'raw' : y_raw}).to_excel(writer,sheet_name='SVM',index=False)"
   ]
  },
  {
   "cell_type": "code",
   "execution_count": 42,
   "id": "muslim-inspector",
   "metadata": {},
   "outputs": [
    {
     "name": "stdout",
     "output_type": "stream",
     "text": [
      "Number of mislabeled points out of a total 150 points : 11\n",
      "Accuracy of the Decision Tree Classifier model: 0.926667\n",
      "\n"
     ]
    },
    {
     "data": {
      "image/png": "[encoded data removed]",
      "text/plain": [
       "<Figure size 432x288 with 2 Axes>"
      ]
     },
     "metadata": {
      "needs_background": "light"
     },
     "output_type": "display_data"
    }
   ],
   "source": [
    "# Model-9-Decision Tree Classifier\n",
    "from sklearn.tree import DecisionTreeClassifier\n",
    "m9 = DecisionTreeClassifier(max_depth=4)\n",
    "\n",
    "# fold1\n",
    "clf9 = m9.fit(X_train1,y_train1)\n",
    "y_pred1 = clf9.predict(X_test1)\n",
    "\n",
    "# fold2\n",
    "clf9 = m9.fit(X_train2,y_train2)\n",
    "y_pred2 = clf9.predict(X_test2)\n",
    "\n",
    "# Inverse transform\n",
    "y_raw   = [*y_pred1, *y_pred2]\n",
    "y_predr = le.inverse_transform(y_raw)\n",
    "y_testr = le.inverse_transform([*y_test1, *y_test2])\n",
    "\n",
    "# Metrics\n",
    "metrics(y_testr,y_predr, 'Decision Tree Classifier')\n",
    "\n",
    "# Test \n",
    "with pd.ExcelWriter('test.xlsx', mode='a') as writer:\n",
    "    pd.DataFrame({'actual' : y_testr, 'pred' : y_predr,'raw' : y_raw}).to_excel(writer,sheet_name='DTC',index=False)"
   ]
  },
  {
   "cell_type": "code",
   "execution_count": 7,
   "id": "resident-bullet",
   "metadata": {},
   "outputs": [
    {
     "name": "stdout",
     "output_type": "stream",
     "text": [
      "Number of mislabeled points out of a total 150 points : 8\n",
      "Accuracy of the Random Forest Classifier model: 0.946667\n",
      "\n"
     ]
    },
    {
     "data": {
      "image/png": "[encoded data removed]",
      "text/plain": [
       "<Figure size 432x288 with 2 Axes>"
      ]
     },
     "metadata": {
      "needs_background": "light"
     },
     "output_type": "display_data"
    }
   ],
   "source": [
    "# Model-10-Random Forest Classifier\n",
    "from sklearn.ensemble import RandomForestClassifier\n",
    "\n",
    "# parameters\n",
    "n_estimators = 40\n",
    "\n",
    "m10 = RandomForestClassifier(max_depth=None, random_state=0, n_estimators=n_estimators, max_features='log2')\n",
    "\n",
    "# fold1\n",
    "clf10 = m10.fit(X_train1,y_train1)\n",
    "y_pred1 = clf10.predict(X_test1)\n",
    "\n",
    "# fold2\n",
    "clf10 = m10.fit(X_train2,y_train2)\n",
    "y_pred2 = clf10.predict(X_test2)\n",
    "\n",
    "# Inverse transform\n",
    "y_raw   = [*y_pred1, *y_pred2]\n",
    "y_predr = le.inverse_transform(y_raw)\n",
    "y_testr = le.inverse_transform([*y_test1, *y_test2])\n",
    "\n",
    "# Metrics\n",
    "metrics(y_testr,y_predr, 'Random Forest Classifier')\n",
    "\n",
    "# Test \n",
    "with pd.ExcelWriter('test.xlsx', mode='a') as writer:\n",
    "    pd.DataFrame({'actual' : y_testr, 'pred' : y_predr,'raw' : y_raw}).to_excel(writer,sheet_name='RFDTC',index=False)"
   ]
  },
  {
   "cell_type": "code",
   "execution_count": 52,
   "id": "cleared-activation",
   "metadata": {},
   "outputs": [
    {
     "name": "stdout",
     "output_type": "stream",
     "text": [
      "Number of mislabeled points out of a total 150 points : 7\n",
      "Accuracy of the Extra tree Classifier model: 0.953333\n",
      "\n"
     ]
    },
    {
     "data": {
      "image/png": "[encoded data removed]",
      "text/plain": [
       "<Figure size 432x288 with 2 Axes>"
      ]
     },
     "metadata": {
      "needs_background": "light"
     },
     "output_type": "display_data"
    }
   ],
   "source": [
    "# Model-11-Extra trees Classifier\n",
    "from sklearn.ensemble import ExtraTreesClassifier\n",
    "\n",
    "# parameters\n",
    "n_estimators = 40\n",
    "\n",
    "m11 = ExtraTreesClassifier(max_depth=None, random_state=0, n_estimators=n_estimators, max_features='log2')\n",
    "\n",
    "# fold1\n",
    "clf11 = m11.fit(X_train1,y_train1)\n",
    "y_pred1 = clf11.predict(X_test1)\n",
    "\n",
    "# fold2\n",
    "clf11 = m11.fit(X_train2,y_train2)\n",
    "y_pred2 = clf11.predict(X_test2)\n",
    "\n",
    "# Inverse transform\n",
    "y_raw   = [*y_pred1, *y_pred2]\n",
    "y_predr = le.inverse_transform(y_raw)\n",
    "y_testr = le.inverse_transform([*y_test1, *y_test2])\n",
    "\n",
    "# Metrics\n",
    "metrics(y_testr,y_predr, 'Extra tree Classifier')\n",
    "\n",
    "# Test \n",
    "with pd.ExcelWriter('test.xlsx', mode='a') as writer:\n",
    "    pd.DataFrame({'actual' : y_testr, 'pred' : y_predr,'raw' : y_raw}).to_excel(writer,sheet_name='EDTC',index=False)"
   ]
  },
  {
   "cell_type": "code",
   "execution_count": 60,
   "id": "innovative-tyler",
   "metadata": {},
   "outputs": [
    {
     "name": "stderr",
     "output_type": "stream",
     "text": [
      "C:\\ProgramData\\Anaconda2\\envs\\P37\\lib\\site-packages\\sklearn\\neural_network\\_multilayer_perceptron.py:614: ConvergenceWarning: Stochastic Optimizer: Maximum iterations (400) reached and the optimization hasn't converged yet.\n",
      "  warnings.warn(\n",
      "C:\\ProgramData\\Anaconda2\\envs\\P37\\lib\\site-packages\\sklearn\\neural_network\\_multilayer_perceptron.py:614: ConvergenceWarning: Stochastic Optimizer: Maximum iterations (400) reached and the optimization hasn't converged yet.\n",
      "  warnings.warn(\n"
     ]
    },
    {
     "name": "stdout",
     "output_type": "stream",
     "text": [
      "Number of mislabeled points out of a total 150 points : 4\n",
      "Accuracy of the Multi layer perceptron Classifier model: 0.973333\n",
      "\n"
     ]
    },
    {
     "data": {
      "image/png": "[encoded data removed]",
      "text/plain": [
       "<Figure size 432x288 with 2 Axes>"
      ]
     },
     "metadata": {
      "needs_background": "light"
     },
     "output_type": "display_data"
    }
   ],
   "source": [
    "# Model-12-MLP classifier\n",
    "from sklearn.neural_network import MLPClassifier\n",
    "\n",
    "m12 = MLPClassifier(random_state=1, max_iter=400)\n",
    "\n",
    "# fold1\n",
    "clf12 = m12.fit(X_train1,y_train1)\n",
    "y_pred1 = clf12.predict(X_test1)\n",
    "\n",
    "# fold2\n",
    "clf12 = m12.fit(X_train2,y_train2)\n",
    "y_pred2 = clf12.predict(X_test2)\n",
    "\n",
    "# Inverse transform\n",
    "y_raw   = [*y_pred1, *y_pred2]\n",
    "y_predr = le.inverse_transform(y_raw)\n",
    "y_testr = le.inverse_transform([*y_test1, *y_test2])\n",
    "\n",
    "# Metrics\n",
    "metrics(y_testr,y_predr, 'Multi layer perceptron Classifier')\n",
    "\n",
    "# Test \n",
    "with pd.ExcelWriter('test.xlsx', mode='a') as writer:\n",
    "    pd.DataFrame({'actual' : y_testr, 'pred' : y_predr,'raw' : y_raw}).to_excel(writer,sheet_name='MLP',index=False)"
   ]
  },
  {
   "cell_type": "markdown",
   "id": "cooked-appointment",
   "metadata": {},
   "source": [
    "## Part 2"
   ]
  },
  {
   "cell_type": "code",
   "execution_count": 8,
   "id": "roman-preparation",
   "metadata": {},
   "outputs": [
    {
     "name": "stdout",
     "output_type": "stream",
     "text": [
      "Number of samples in fold1:1437\n",
      "Number of samples in fold2:360\n",
      "[START] Pre-training step:\n",
      ">> Epoch 1 finished \tRBM Reconstruction error 2.740666\n",
      ">> Epoch 2 finished \tRBM Reconstruction error 1.805594\n",
      ">> Epoch 3 finished \tRBM Reconstruction error 1.432523\n",
      ">> Epoch 4 finished \tRBM Reconstruction error 1.274614\n",
      ">> Epoch 5 finished \tRBM Reconstruction error 1.127715\n",
      ">> Epoch 6 finished \tRBM Reconstruction error 1.016233\n",
      ">> Epoch 7 finished \tRBM Reconstruction error 0.931797\n",
      ">> Epoch 8 finished \tRBM Reconstruction error 0.904623\n",
      ">> Epoch 9 finished \tRBM Reconstruction error 0.891258\n",
      ">> Epoch 10 finished \tRBM Reconstruction error 0.790757\n",
      ">> Epoch 1 finished \tRBM Reconstruction error 2.880171\n",
      ">> Epoch 2 finished \tRBM Reconstruction error 1.491411\n",
      ">> Epoch 3 finished \tRBM Reconstruction error 1.120919\n",
      ">> Epoch 4 finished \tRBM Reconstruction error 0.921536\n",
      ">> Epoch 5 finished \tRBM Reconstruction error 0.763747\n",
      ">> Epoch 6 finished \tRBM Reconstruction error 0.667087\n",
      ">> Epoch 7 finished \tRBM Reconstruction error 0.573752\n",
      ">> Epoch 8 finished \tRBM Reconstruction error 0.529821\n",
      ">> Epoch 9 finished \tRBM Reconstruction error 0.480695\n",
      ">> Epoch 10 finished \tRBM Reconstruction error 0.456472\n",
      "[END] Pre-training step\n",
      "[START] Fine tuning step:\n",
      ">> Epoch 1 finished \tANN training loss 19.815676\n",
      ">> Epoch 2 finished \tANN training loss 13.012750\n",
      ">> Epoch 3 finished \tANN training loss 9.025525\n",
      ">> Epoch 4 finished \tANN training loss 7.295055\n",
      ">> Epoch 5 finished \tANN training loss 6.229197\n",
      ">> Epoch 6 finished \tANN training loss 5.808220\n",
      ">> Epoch 7 finished \tANN training loss 5.241246\n",
      ">> Epoch 8 finished \tANN training loss 4.761866\n",
      ">> Epoch 9 finished \tANN training loss 4.898449\n",
      ">> Epoch 10 finished \tANN training loss 4.430443\n",
      ">> Epoch 11 finished \tANN training loss 4.188848\n",
      ">> Epoch 12 finished \tANN training loss 4.099041\n",
      ">> Epoch 13 finished \tANN training loss 4.149002\n",
      ">> Epoch 14 finished \tANN training loss 4.126827\n",
      ">> Epoch 15 finished \tANN training loss 4.024709\n",
      ">> Epoch 16 finished \tANN training loss 3.837017\n",
      ">> Epoch 17 finished \tANN training loss 3.789805\n",
      ">> Epoch 18 finished \tANN training loss 3.749225\n",
      ">> Epoch 19 finished \tANN training loss 3.768161\n",
      ">> Epoch 20 finished \tANN training loss 3.448430\n",
      ">> Epoch 21 finished \tANN training loss 3.973341\n",
      ">> Epoch 22 finished \tANN training loss 3.486660\n",
      ">> Epoch 23 finished \tANN training loss 3.562496\n",
      ">> Epoch 24 finished \tANN training loss 3.220933\n",
      ">> Epoch 25 finished \tANN training loss 3.473933\n",
      ">> Epoch 26 finished \tANN training loss 3.096372\n",
      ">> Epoch 27 finished \tANN training loss 3.127187\n",
      ">> Epoch 28 finished \tANN training loss 3.654857\n",
      ">> Epoch 29 finished \tANN training loss 3.176199\n",
      ">> Epoch 30 finished \tANN training loss 3.204959\n",
      ">> Epoch 31 finished \tANN training loss 3.372546\n",
      ">> Epoch 32 finished \tANN training loss 3.147058\n",
      ">> Epoch 33 finished \tANN training loss 3.235672\n",
      ">> Epoch 34 finished \tANN training loss 2.879812\n",
      ">> Epoch 35 finished \tANN training loss 2.878245\n",
      ">> Epoch 36 finished \tANN training loss 3.084891\n",
      ">> Epoch 37 finished \tANN training loss 3.132054\n",
      ">> Epoch 38 finished \tANN training loss 2.776393\n",
      ">> Epoch 39 finished \tANN training loss 3.132948\n",
      ">> Epoch 40 finished \tANN training loss 2.989652\n",
      ">> Epoch 41 finished \tANN training loss 2.867335\n",
      ">> Epoch 42 finished \tANN training loss 2.809363\n",
      ">> Epoch 43 finished \tANN training loss 2.884767\n",
      ">> Epoch 44 finished \tANN training loss 3.035932\n",
      ">> Epoch 45 finished \tANN training loss 2.848164\n",
      ">> Epoch 46 finished \tANN training loss 2.913252\n",
      ">> Epoch 47 finished \tANN training loss 2.813828\n",
      ">> Epoch 48 finished \tANN training loss 2.736477\n",
      ">> Epoch 49 finished \tANN training loss 2.766231\n",
      ">> Epoch 50 finished \tANN training loss 2.839658\n",
      ">> Epoch 51 finished \tANN training loss 2.699174\n",
      ">> Epoch 52 finished \tANN training loss 2.548628\n",
      ">> Epoch 53 finished \tANN training loss 2.651098\n",
      ">> Epoch 54 finished \tANN training loss 2.472910\n",
      ">> Epoch 55 finished \tANN training loss 2.586327\n",
      ">> Epoch 56 finished \tANN training loss 2.511920\n",
      ">> Epoch 57 finished \tANN training loss 2.684920\n",
      ">> Epoch 58 finished \tANN training loss 2.370807\n",
      ">> Epoch 59 finished \tANN training loss 2.716494\n",
      ">> Epoch 60 finished \tANN training loss 2.562766\n",
      ">> Epoch 61 finished \tANN training loss 2.397317\n",
      ">> Epoch 62 finished \tANN training loss 2.461418\n",
      ">> Epoch 63 finished \tANN training loss 2.493879\n",
      ">> Epoch 64 finished \tANN training loss 2.541392\n",
      ">> Epoch 65 finished \tANN training loss 2.619213\n",
      ">> Epoch 66 finished \tANN training loss 2.511461\n",
      ">> Epoch 67 finished \tANN training loss 2.588723\n",
      ">> Epoch 68 finished \tANN training loss 2.558595\n",
      ">> Epoch 69 finished \tANN training loss 2.794101\n",
      ">> Epoch 70 finished \tANN training loss 2.243804\n",
      ">> Epoch 71 finished \tANN training loss 2.400391\n",
      ">> Epoch 72 finished \tANN training loss 2.415319\n",
      ">> Epoch 73 finished \tANN training loss 2.235596\n",
      ">> Epoch 74 finished \tANN training loss 2.320560\n",
      ">> Epoch 75 finished \tANN training loss 2.365965\n",
      ">> Epoch 76 finished \tANN training loss 2.373090\n",
      ">> Epoch 77 finished \tANN training loss 2.344638\n",
      ">> Epoch 78 finished \tANN training loss 2.370614\n",
      ">> Epoch 79 finished \tANN training loss 2.378325\n",
      ">> Epoch 80 finished \tANN training loss 2.296690\n",
      ">> Epoch 81 finished \tANN training loss 2.207147\n",
      ">> Epoch 82 finished \tANN training loss 2.213116\n",
      ">> Epoch 83 finished \tANN training loss 2.479594\n",
      ">> Epoch 84 finished \tANN training loss 2.184803\n",
      ">> Epoch 85 finished \tANN training loss 2.145601\n",
      ">> Epoch 86 finished \tANN training loss 2.331894\n",
      ">> Epoch 87 finished \tANN training loss 2.236025\n",
      ">> Epoch 88 finished \tANN training loss 2.343825\n",
      ">> Epoch 89 finished \tANN training loss 1.923268\n",
      ">> Epoch 90 finished \tANN training loss 2.162285\n",
      ">> Epoch 91 finished \tANN training loss 2.198585\n",
      ">> Epoch 92 finished \tANN training loss 2.443944\n",
      ">> Epoch 93 finished \tANN training loss 2.322807\n",
      ">> Epoch 94 finished \tANN training loss 2.092216\n",
      ">> Epoch 95 finished \tANN training loss 2.326477\n",
      ">> Epoch 96 finished \tANN training loss 2.240110\n",
      ">> Epoch 97 finished \tANN training loss 2.341988\n",
      ">> Epoch 98 finished \tANN training loss 1.917154\n",
      ">> Epoch 99 finished \tANN training loss 2.006803\n",
      ">> Epoch 100 finished \tANN training loss 1.919281\n",
      "[END] Fine tuning step\n",
      "Done.\n",
      "Accuracy: 0.997222\n",
      "Number of mislabeled points out of a total 360 points : 1\n",
      "Accuracy of the Deep Belief Network Classifier model: 0.997222\n",
      "\n"
     ]
    },
    {
     "data": {
      "image/png": "[encoded data removed]",
      "text/plain": [
       "<Figure size 432x288 with 2 Axes>"
      ]
     },
     "metadata": {
      "needs_background": "light"
     },
     "output_type": "display_data"
    }
   ],
   "source": [
    "# Deep-belief-network\n",
    "np.random.seed(1337)  # for reproducibility\n",
    "from sklearn.datasets import load_digits\n",
    "from sklearn.model_selection import train_test_split\n",
    "from sklearn.metrics import accuracy_score\n",
    "from dbn import SupervisedDBNClassification\n",
    "\n",
    "# Loading dataset\n",
    "digits = load_digits()\n",
    "X, Y = digits.data, digits.target\n",
    "\n",
    "# Data scaling\n",
    "X = (X / 16).astype(np.float32)\n",
    "\n",
    "# Splitting data\n",
    "X_train, X_test, Y_train, Y_test = train_test_split(X, Y, test_size=0.2, random_state=0)\n",
    "\n",
    "print('Number of samples in fold1:{}'.format(len(X_train)))\n",
    "print('Number of samples in fold2:{}'.format(len(X_test)))\n",
    "\n",
    "# Training\n",
    "classifier = SupervisedDBNClassification(hidden_layers_structure=[256, 256],\n",
    "                                         learning_rate_rbm=0.05,\n",
    "                                         learning_rate=0.1,\n",
    "                                         n_epochs_rbm=10,\n",
    "                                         n_iter_backprop=100,\n",
    "                                         batch_size=32,\n",
    "                                         activation_function='relu',\n",
    "                                         dropout_p=0.2)\n",
    "\n",
    "\n",
    "# Fit\n",
    "classifier.fit(X_train, Y_train)\n",
    "\n",
    "# Save the model\n",
    "classifier.save('model.pkl')\n",
    "\n",
    "# Restore it\n",
    "classifier = SupervisedDBNClassification.load('model.pkl')\n",
    "\n",
    "# Test\n",
    "Y_pred = classifier.predict(X_test)\n",
    "print('Done.\\nAccuracy: %f' % accuracy_score(Y_test, Y_pred))\n",
    "\n",
    "# Metrics\n",
    "print(\"Number of mislabeled points out of a total %d points : %d\" % (len(Y_test), (Y_test != Y_pred).sum()))\n",
    "        \n",
    "# Accuracy\n",
    "acc = accuracy_score(Y_test, Y_pred)\n",
    "print('Accuracy of the {:s} model: {:f}'.format('Deep Belief Network Classifier',acc))\n",
    "\n",
    "# Confusion matrix\n",
    "cm=confusion_matrix(Y_test, Y_pred)\n",
    "disp = ConfusionMatrixDisplay(confusion_matrix=cm,\n",
    "                              display_labels=['0','1','2','3','4','5','6','7','8','9'])\n",
    "_=disp.plot() \n",
    "disp.ax_.set(title='Deep Belief Network Classifier')\n",
    "print()\n",
    "\n",
    "# Test \n",
    "with pd.ExcelWriter('test.xlsx', mode='a') as writer:\n",
    "    pd.DataFrame({'actual' : Y_test, 'pred' : Y_pred,'raw' : Y_pred}).to_excel(writer,sheet_name='DBN',index=False)"
   ]
  },
  {
   "cell_type": "code",
   "execution_count": null,
   "id": "elementary-multimedia",
   "metadata": {},
   "outputs": [],
   "source": []
  }
 ],
 "metadata": {
  "kernelspec": {
   "display_name": "Python 3",
   "language": "python",
   "name": "python3"
  },
  "language_info": {
   "codemirror_mode": {
    "name": "ipython",
    "version": 3
   },
   "file_extension": ".py",
   "mimetype": "text/x-python",
   "name": "python",
   "nbconvert_exporter": "python",
   "pygments_lexer": "ipython3",
   "version": "3.8.8"
  }
 },
 "nbformat": 4,
 "nbformat_minor": 5
}
