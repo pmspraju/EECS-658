{
 "cells": [
  {
   "cell_type": "markdown",
   "id": "certain-treasury",
   "metadata": {},
   "source": [
    "# Assignment 7"
   ]
  },
  {
   "cell_type": "markdown",
   "id": "fiscal-quarterly",
   "metadata": {},
   "source": [
    "## Part 1"
   ]
  },
  {
   "cell_type": "code",
   "execution_count": 1,
   "id": "resistant-holocaust",
   "metadata": {},
   "outputs": [
    {
     "name": "stdout",
     "output_type": "stream",
     "text": [
      "Python: 3.8.8 (default, Feb 24 2021, 15:54:32) [MSC v.1928 64 bit (AMD64)]\n",
      "scipy: 1.7.1\n",
      "numpy: 1.19.2\n",
      "pandas: 1.1.3\n",
      "sklearn: 0.24.2\n",
      "Hello World!\n"
     ]
    }
   ],
   "source": [
    "# Import relevant libraries\n",
    "import os\n",
    "import sys\n",
    "print('Python: {}'.format(sys.version))\n",
    "\n",
    "import scipy\n",
    "print('scipy: {}'.format(scipy.__version__))\n",
    "\n",
    "import numpy as np\n",
    "print('numpy: {}'.format(np.__version__))\n",
    "\n",
    "import pandas as pd\n",
    "pd.options.mode.chained_assignment = None  # default='warn'\n",
    "#pd.set_option(\"display.max_rows\", None, \"display.max_columns\", None)\n",
    "print('pandas: {}'.format(pd.__version__))\n",
    "\n",
    "import sklearn\n",
    "print('sklearn: {}'.format(sklearn.__version__))\n",
    "\n",
    "from sklearn.metrics import accuracy_score, confusion_matrix,ConfusionMatrixDisplay, recall_score\n",
    "\n",
    "print(\"Hello World!\")"
   ]
  },
  {
   "cell_type": "markdown",
   "id": "dedicated-jenny",
   "metadata": {},
   "source": [
    "### Part 1"
   ]
  },
  {
   "cell_type": "code",
   "execution_count": 48,
   "id": "bibliographic-sampling",
   "metadata": {},
   "outputs": [],
   "source": [
    "def computeprob(k0,i,row,ev,gamma,ps):\n",
    "    newprob =[]\n",
    "    for j,val in enumerate(row):\n",
    "        \n",
    "        #for termial states, prob=0\n",
    "        if( (i==0 and j==0) or (i==4 and j==4) ):\n",
    "            newprob.append(0)\n",
    "        else:\n",
    "            up    = k0[i-1][j] if ((i-1) >= 0) else val\n",
    "            down  = k0[i+1][j] if ((i+1) <= 4) else val\n",
    "            right = k0[i][j+1] if ((j+1) <= 4) else val\n",
    "            left  = k0[i][j-1] if ((j-1) >= 0) else val\n",
    "            prob = ev + gamma*ps*(up+down+right+left)\n",
    "            \n",
    "            newprob.append(prob)\n",
    "            \n",
    "    return newprob\n",
    "            "
   ]
  },
  {
   "cell_type": "code",
   "execution_count": 49,
   "id": "political-patent",
   "metadata": {},
   "outputs": [
    {
     "name": "stdout",
     "output_type": "stream",
     "text": [
      "*************\n",
      "Part-1-Policy Iteration\n",
      "*************\n",
      "Policy for Iteration: 0\n",
      "*************\n",
      "[[ 0  1  2  3  4]\n",
      " [ 5  6  7  8  9]\n",
      " [10 11 12 13 14]\n",
      " [15 16 17 18 19]\n",
      " [20 21 22 23  0]]\n",
      "*************\n",
      "Policy for Iteration: 1\n",
      "*************\n",
      "[[ 0.    1.25  2.25  3.25  4.  ]\n",
      " [ 4.25  5.    6.    7.    7.75]\n",
      " [ 9.25 10.   11.   12.   12.75]\n",
      " [14.25 15.   16.   17.   11.75]\n",
      " [18.   18.75 19.75 14.75  0.  ]]\n",
      "*************\n",
      "Policy for Iteration: 10\n",
      "*************\n",
      "[[ 0.         -1.64863873 -1.93782711 -1.89110088 -1.87017441]\n",
      " [-0.58767605 -0.95679474 -1.08333015 -1.27284241 -1.37806797]\n",
      " [ 0.83974934  0.63328362  0.15605164 -0.36806297 -0.85833454]\n",
      " [ 2.60308933  2.16038513  1.3485508   0.17612457 -0.59553623]\n",
      " [ 3.68497849  3.11612225  1.91924191  0.46542645  0.        ]]\n",
      "*************\n",
      "Optimal Policy Converged in iterations: 1206\n",
      "*************\n",
      "[[  0.         -23.         -34.33333333 -39.66666667 -41.66666667]\n",
      " [-23.         -30.66666667 -36.33333333 -39.         -39.66666667]\n",
      " [-34.33333333 -36.33333333 -37.33333333 -36.33333333 -34.33333333]\n",
      " [-39.66666667 -39.         -36.33333333 -30.66666667 -23.        ]\n",
      " [-41.66666667 -39.66666667 -34.33333333 -23.           0.        ]]\n",
      "*************\n"
     ]
    }
   ],
   "source": [
    "print('*************')\n",
    "print('Part-1-Policy Iteration')\n",
    "print('*************')\n",
    "\n",
    "actions = ['u', 'd', 'r', 'l'] #up down right left\n",
    "reward = -1\n",
    "pr = 0.25 #\n",
    "ps = 0.25 #state transition probability\n",
    "gamma = 1 # discount factor\n",
    "\n",
    "ev = sum([reward * pr for i in actions])\n",
    "\n",
    "k0 = np.array([[0,1,2,3,4], [5,6,7,8,9], [10,11,12,13,14], [15,16,17,18,19], [20,21,22,23,0]])\n",
    "\n",
    "itrs = 0\n",
    "while True:\n",
    "    \n",
    "    if(itrs in [0,1,10]):\n",
    "        print('Policy for Iteration:',itrs)\n",
    "        print('*************')\n",
    "        print(k0)\n",
    "        print('*************')\n",
    "    \n",
    "    k1 = np.array([computeprob(k0,i,row,ev,gamma,ps) for i, row in enumerate(k0)])\n",
    "    converged = True\n",
    "    for i,j in zip(k0.ravel(),k1.ravel()):\n",
    "        if(i != j):\n",
    "            converged = False\n",
    "            \n",
    "    if converged:\n",
    "        print('Optimal Policy Converged in iterations:',itrs)\n",
    "        print('*************')\n",
    "        print(k0)\n",
    "        print('*************')\n",
    "        break\n",
    "    else:\n",
    "        k0 = k1\n",
    "        itrs = itrs+1"
   ]
  },
  {
   "cell_type": "markdown",
   "id": "differential-ethnic",
   "metadata": {},
   "source": [
    "### Part 2"
   ]
  },
  {
   "cell_type": "code",
   "execution_count": 53,
   "id": "discrete-relationship",
   "metadata": {},
   "outputs": [],
   "source": [
    "def computevalue(k0,i,row,ev,gamma,ps):\n",
    "    newprob =[]\n",
    "    for j,val in enumerate(row):\n",
    "        \n",
    "        #for termial states, prob=0\n",
    "        if( (i==0 and j==0) or (i==4 and j==4) ):\n",
    "            newprob.append(0)\n",
    "        else:\n",
    "            up    = ev + gamma*(k0[i-1][j] if ((i-1) >= 0) else val)\n",
    "            down  = ev + gamma*(k0[i+1][j] if ((i+1) <= 4) else val)\n",
    "            right = ev + gamma*(k0[i][j+1] if ((j+1) <= 4) else val)\n",
    "            left  = ev + gamma*(k0[i][j-1] if ((j-1) >= 0) else val)\n",
    "            prob = max(up,down,right,left)\n",
    "            \n",
    "            newprob.append(prob)\n",
    "            \n",
    "    return newprob"
   ]
  },
  {
   "cell_type": "code",
   "execution_count": 54,
   "id": "unusual-tomorrow",
   "metadata": {},
   "outputs": [
    {
     "name": "stdout",
     "output_type": "stream",
     "text": [
      "*************\n",
      "Part-1-Value Iteration\n",
      "*************\n",
      "Policy for Iteration: 0\n",
      "*************\n",
      "[[ 0  1  2  3  4]\n",
      " [ 5  6  7  8  9]\n",
      " [10 11 12 13 14]\n",
      " [15 16 17 18 19]\n",
      " [20 21 22 23  0]]\n",
      "*************\n",
      "Policy for Iteration: 1\n",
      "*************\n",
      "[[ 0.  5.  6.  7.  8.]\n",
      " [ 9. 10. 11. 12. 13.]\n",
      " [14. 15. 16. 17. 18.]\n",
      " [19. 20. 21. 22. 18.]\n",
      " [20. 21. 22. 22.  0.]]\n",
      "*************\n",
      "Policy for Iteration: 10\n",
      "*************\n",
      "[[ 0. 13. 13. 13. 13.]\n",
      " [13. 13. 13. 13. 13.]\n",
      " [13. 13. 13. 13. 13.]\n",
      " [13. 13. 13. 13. 13.]\n",
      " [13. 13. 13. 13.  0.]]\n",
      "*************\n",
      "Optimal Policy Converged in iterations: 27\n",
      "*************\n",
      "[[ 0. -1. -2. -3. -4.]\n",
      " [-1. -2. -3. -4. -3.]\n",
      " [-2. -3. -4. -3. -2.]\n",
      " [-3. -4. -3. -2. -1.]\n",
      " [-4. -3. -2. -1.  0.]]\n",
      "*************\n"
     ]
    }
   ],
   "source": [
    "print('*************')\n",
    "print('Part-1-Value Iteration')\n",
    "print('*************')\n",
    "\n",
    "actions = ['u', 'd', 'r', 'l'] #up down right left\n",
    "reward = -1\n",
    "pr = 0.25 #\n",
    "ps = 0.25 #state transition probability\n",
    "gamma = 1 # discount factor\n",
    "\n",
    "ev = sum([reward * pr for i in actions])\n",
    "\n",
    "k0 = np.array([[0,1,2,3,4], [5,6,7,8,9], [10,11,12,13,14], [15,16,17,18,19], [20,21,22,23,0]])\n",
    "\n",
    "itrs = 0\n",
    "while True:\n",
    "    \n",
    "    if(itrs in [0,1,10]):\n",
    "        print('Policy for Iteration:',itrs)\n",
    "        print('*************')\n",
    "        print(k0)\n",
    "        print('*************')\n",
    "    \n",
    "    k1 = np.array([computevalue(k0,i,row,ev,gamma,ps) for i, row in enumerate(k0)])\n",
    "    converged = True\n",
    "    for i,j in zip(k0.ravel(),k1.ravel()):\n",
    "        if(i != j):\n",
    "            converged = False\n",
    "            \n",
    "    if converged:\n",
    "        print('Optimal Policy Converged in iterations:',itrs)\n",
    "        print('*************')\n",
    "        print(k0)\n",
    "        print('*************')\n",
    "        break\n",
    "    else:\n",
    "        k0 = k1\n",
    "        itrs = itrs+1"
   ]
  },
  {
   "cell_type": "code",
   "execution_count": null,
   "id": "hawaiian-utilization",
   "metadata": {},
   "outputs": [],
   "source": []
  }
 ],
 "metadata": {
  "kernelspec": {
   "display_name": "Python 3",
   "language": "python",
   "name": "python3"
  },
  "language_info": {
   "codemirror_mode": {
    "name": "ipython",
    "version": 3
   },
   "file_extension": ".py",
   "mimetype": "text/x-python",
   "name": "python",
   "nbconvert_exporter": "python",
   "pygments_lexer": "ipython3",
   "version": "3.8.8"
  }
 },
 "nbformat": 4,
 "nbformat_minor": 5
}
