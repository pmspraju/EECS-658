{
 "cells": [
  {
   "cell_type": "markdown",
   "id": "certain-treasury",
   "metadata": {},
   "source": [
    "# Assignment 2"
   ]
  },
  {
   "cell_type": "code",
   "execution_count": 1,
   "id": "resistant-holocaust",
   "metadata": {},
   "outputs": [
    {
     "name": "stdout",
     "output_type": "stream",
     "text": [
      "Python: 3.8.8 (default, Feb 24 2021, 15:54:32) [MSC v.1928 64 bit (AMD64)]\n",
      "scipy: 1.7.1\n",
      "numpy: 1.19.2\n",
      "pandas: 1.1.3\n",
      "sklearn: 0.24.2\n",
      "Hello World!\n"
     ]
    }
   ],
   "source": [
    "# Import relevant libraries\n",
    "import os\n",
    "import sys\n",
    "print('Python: {}'.format(sys.version))\n",
    "\n",
    "import scipy\n",
    "print('scipy: {}'.format(scipy.__version__))\n",
    "\n",
    "import numpy\n",
    "print('numpy: {}'.format(numpy.__version__))\n",
    "\n",
    "import pandas as pd\n",
    "print('pandas: {}'.format(pd.__version__))\n",
    "\n",
    "import sklearn\n",
    "print('sklearn: {}'.format(sklearn.__version__))\n",
    "\n",
    "print(\"Hello World!\")"
   ]
  },
  {
   "cell_type": "code",
   "execution_count": 2,
   "id": "consolidated-james",
   "metadata": {},
   "outputs": [],
   "source": [
    "#Function to load the data\n",
    "def loadData(path,filename):\n",
    "    try:\n",
    "             files = os.listdir(path)\n",
    "             for f in files:\n",
    "                 if f == filename:\n",
    "                     data = pd.read_csv(os.path.join(path,f))\n",
    "                     return data\n",
    "            \n",
    "    except Exception as ex:\n",
    "           print (\"-----------------------------------------------------------------------\")\n",
    "           template = \"An exception of type {0} occurred. Arguments:\\n{1!r}\"\n",
    "           message = template.format(type(ex).__name__, ex.args)\n",
    "           print (message)"
   ]
  },
  {
   "cell_type": "code",
   "execution_count": 3,
   "id": "blank-pastor",
   "metadata": {},
   "outputs": [],
   "source": [
    "# Deduce the metrics\n",
    "from sklearn.metrics import accuracy_score, confusion_matrix,ConfusionMatrixDisplay\n",
    "\n",
    "def metrics(test,pred,modelname):\n",
    "    try:\n",
    "        print(\"Number of mislabeled points out of a total %d points : %d\" % (len(test), (test != pred).sum()))\n",
    "        \n",
    "        # Accuracy\n",
    "        acc = accuracy_score(test, pred)\n",
    "        print('Accuracy of the {:s} model: {:f}'.format(modelname,acc))\n",
    "        \n",
    "        # Confusion matrix\n",
    "        cm=confusion_matrix(test,pred)\n",
    "        disp = ConfusionMatrixDisplay(confusion_matrix=cm,\n",
    "                                      display_labels=['Iris-setosa','Iris-versicolor','Iris-virginica'])\n",
    "        _=disp.plot() \n",
    "        disp.ax_.set(title=modelname)\n",
    "        print()\n",
    "            \n",
    "    except Exception as ex:\n",
    "           print (\"-----------------------------------------------------------------------\")\n",
    "           template = \"An exception of type {0} occurred. Arguments:\\n{1!r}\"\n",
    "           message = template.format(type(ex).__name__, ex.args)\n",
    "           print (message)"
   ]
  },
  {
   "cell_type": "code",
   "execution_count": 4,
   "id": "paperback-plant",
   "metadata": {},
   "outputs": [
    {
     "data": {
      "text/html": [
       "<div>\n",
       "<style scoped>\n",
       "    .dataframe tbody tr th:only-of-type {\n",
       "        vertical-align: middle;\n",
       "    }\n",
       "\n",
       "    .dataframe tbody tr th {\n",
       "        vertical-align: top;\n",
       "    }\n",
       "\n",
       "    .dataframe thead th {\n",
       "        text-align: right;\n",
       "    }\n",
       "</style>\n",
       "<table border=\"1\" class=\"dataframe\">\n",
       "  <thead>\n",
       "    <tr style=\"text-align: right;\">\n",
       "      <th></th>\n",
       "      <th>sepal-length</th>\n",
       "      <th>sepal-width</th>\n",
       "      <th>petal-length</th>\n",
       "      <th>petal-width</th>\n",
       "      <th>class</th>\n",
       "    </tr>\n",
       "  </thead>\n",
       "  <tbody>\n",
       "    <tr>\n",
       "      <th>0</th>\n",
       "      <td>5.1</td>\n",
       "      <td>3.5</td>\n",
       "      <td>1.4</td>\n",
       "      <td>0.2</td>\n",
       "      <td>Iris-setosa</td>\n",
       "    </tr>\n",
       "    <tr>\n",
       "      <th>1</th>\n",
       "      <td>4.9</td>\n",
       "      <td>3.0</td>\n",
       "      <td>1.4</td>\n",
       "      <td>0.2</td>\n",
       "      <td>Iris-setosa</td>\n",
       "    </tr>\n",
       "    <tr>\n",
       "      <th>2</th>\n",
       "      <td>4.7</td>\n",
       "      <td>3.2</td>\n",
       "      <td>1.3</td>\n",
       "      <td>0.2</td>\n",
       "      <td>Iris-setosa</td>\n",
       "    </tr>\n",
       "    <tr>\n",
       "      <th>3</th>\n",
       "      <td>4.6</td>\n",
       "      <td>3.1</td>\n",
       "      <td>1.5</td>\n",
       "      <td>0.2</td>\n",
       "      <td>Iris-setosa</td>\n",
       "    </tr>\n",
       "    <tr>\n",
       "      <th>4</th>\n",
       "      <td>5.0</td>\n",
       "      <td>3.6</td>\n",
       "      <td>1.4</td>\n",
       "      <td>0.2</td>\n",
       "      <td>Iris-setosa</td>\n",
       "    </tr>\n",
       "    <tr>\n",
       "      <th>...</th>\n",
       "      <td>...</td>\n",
       "      <td>...</td>\n",
       "      <td>...</td>\n",
       "      <td>...</td>\n",
       "      <td>...</td>\n",
       "    </tr>\n",
       "    <tr>\n",
       "      <th>145</th>\n",
       "      <td>6.7</td>\n",
       "      <td>3.0</td>\n",
       "      <td>5.2</td>\n",
       "      <td>2.3</td>\n",
       "      <td>Iris-virginica</td>\n",
       "    </tr>\n",
       "    <tr>\n",
       "      <th>146</th>\n",
       "      <td>6.3</td>\n",
       "      <td>2.5</td>\n",
       "      <td>5.0</td>\n",
       "      <td>1.9</td>\n",
       "      <td>Iris-virginica</td>\n",
       "    </tr>\n",
       "    <tr>\n",
       "      <th>147</th>\n",
       "      <td>6.5</td>\n",
       "      <td>3.0</td>\n",
       "      <td>5.2</td>\n",
       "      <td>2.0</td>\n",
       "      <td>Iris-virginica</td>\n",
       "    </tr>\n",
       "    <tr>\n",
       "      <th>148</th>\n",
       "      <td>6.2</td>\n",
       "      <td>3.4</td>\n",
       "      <td>5.4</td>\n",
       "      <td>2.3</td>\n",
       "      <td>Iris-virginica</td>\n",
       "    </tr>\n",
       "    <tr>\n",
       "      <th>149</th>\n",
       "      <td>5.9</td>\n",
       "      <td>3.0</td>\n",
       "      <td>5.1</td>\n",
       "      <td>1.8</td>\n",
       "      <td>Iris-virginica</td>\n",
       "    </tr>\n",
       "  </tbody>\n",
       "</table>\n",
       "<p>150 rows × 5 columns</p>\n",
       "</div>"
      ],
      "text/plain": [
       "     sepal-length  sepal-width  petal-length  petal-width           class\n",
       "0             5.1          3.5           1.4          0.2     Iris-setosa\n",
       "1             4.9          3.0           1.4          0.2     Iris-setosa\n",
       "2             4.7          3.2           1.3          0.2     Iris-setosa\n",
       "3             4.6          3.1           1.5          0.2     Iris-setosa\n",
       "4             5.0          3.6           1.4          0.2     Iris-setosa\n",
       "..            ...          ...           ...          ...             ...\n",
       "145           6.7          3.0           5.2          2.3  Iris-virginica\n",
       "146           6.3          2.5           5.0          1.9  Iris-virginica\n",
       "147           6.5          3.0           5.2          2.0  Iris-virginica\n",
       "148           6.2          3.4           5.4          2.3  Iris-virginica\n",
       "149           5.9          3.0           5.1          1.8  Iris-virginica\n",
       "\n",
       "[150 rows x 5 columns]"
      ]
     },
     "metadata": {},
     "output_type": "display_data"
    },
    {
     "name": "stdout",
     "output_type": "stream",
     "text": [
      "Classes of the label:\n",
      "['Iris-setosa' 'Iris-versicolor' 'Iris-virginica']\n"
     ]
    }
   ],
   "source": [
    "# Read the file\n",
    "path = r'C:\\Users\\pmspr\\Documents\\HS\\MS\\Sem 6\\EECS 658\\Data'\n",
    "filename = \"iris.csv\"\n",
    "data = loadData(path,filename)\n",
    "display(data)\n",
    "\n",
    "X = data\n",
    "y = data.pop('class')\n",
    "y_asis = y\n",
    "\n",
    "# Encode the label\n",
    "from sklearn import preprocessing\n",
    "le = preprocessing.LabelEncoder()\n",
    "le.fit(y)\n",
    "\n",
    "print('Classes of the label:')\n",
    "print(le.classes_)\n",
    "\n",
    "y = list(le.transform(y))"
   ]
  },
  {
   "cell_type": "code",
   "execution_count": 5,
   "id": "political-patent",
   "metadata": {},
   "outputs": [
    {
     "name": "stdout",
     "output_type": "stream",
     "text": [
      "Number of samples in fold1:75\n",
      "Number of samples in fold2:75\n"
     ]
    }
   ],
   "source": [
    "# Split the data\n",
    "from sklearn.model_selection import train_test_split\n",
    "\n",
    "X_train, X_test, y_train, y_test = train_test_split(X, y, test_size=0.5, random_state=1)\n",
    "\n",
    "#Derive two folds for cross validation\n",
    "X_train1 = X_train; y_train1 = y_train\n",
    "X_test1 = X_test; y_test1 = y_test\n",
    "\n",
    "X_train2 = X_test; y_train2 = y_test\n",
    "X_test2 = X_train; y_test2 = y_train\n",
    "\n",
    "print('Number of samples in fold1:{}'.format(len(X_train1)))\n",
    "print('Number of samples in fold2:{}'.format(len(X_train2)))"
   ]
  },
  {
   "cell_type": "code",
   "execution_count": 6,
   "id": "processed-welcome",
   "metadata": {},
   "outputs": [
    {
     "name": "stdout",
     "output_type": "stream",
     "text": [
      "Number of mislabeled points out of a total 150 points : 5\n",
      "Accuracy of the Linear Regression model: 0.966667\n",
      "\n"
     ]
    },
    {
     "data": {
      "image/png": "[encoded data removed]",
      "text/plain": [
       "<Figure size 432x288 with 2 Axes>"
      ]
     },
     "metadata": {
      "needs_background": "light"
     },
     "output_type": "display_data"
    }
   ],
   "source": [
    "# Model-1-Linear regression\n",
    "from sklearn.linear_model import LinearRegression\n",
    "m1 = LinearRegression()\n",
    "\n",
    "# fold1\n",
    "clf1 = m1.fit(X_train1,y_train1)\n",
    "y_pred1 = clf1.predict(X_test1)\n",
    "\n",
    "# fold2\n",
    "clf1 = m1.fit(X_train2,y_train2)\n",
    "y_pred2 = clf1.predict(X_test2)\n",
    "\n",
    "# Inverse transform\n",
    "y_raw   = [*y_pred1, *y_pred2]\n",
    "y_predr = le.inverse_transform([round(x) for x in [*y_pred1, *y_pred2]])\n",
    "y_testr = le.inverse_transform([*y_test1, *y_test2])\n",
    "\n",
    "# Metrics\n",
    "metrics(y_testr,y_predr,'Linear Regression')\n",
    "\n",
    "# Test\n",
    "with pd.ExcelWriter('test.xlsx') as writer:\n",
    "    pd.DataFrame({'actual' : y_testr,'pred' : y_predr, 'raw' : y_raw}).to_excel(writer,sheet_name='linearReg',index=False)"
   ]
  },
  {
   "cell_type": "code",
   "execution_count": 7,
   "id": "married-stage",
   "metadata": {},
   "outputs": [
    {
     "name": "stdout",
     "output_type": "stream",
     "text": [
      "Number of mislabeled points out of a total 150 points : 5\n",
      "Accuracy of the Polynomial Regression with degree2 model: 0.966667\n",
      "\n"
     ]
    },
    {
     "data": {
      "image/png": "[encoded data removed]",
      "text/plain": [
       "<Figure size 432x288 with 2 Axes>"
      ]
     },
     "metadata": {
      "needs_background": "light"
     },
     "output_type": "display_data"
    }
   ],
   "source": [
    "# Model-2-Polynomial regression with degree 2\n",
    "from sklearn.preprocessing import PolynomialFeatures\n",
    "from sklearn.pipeline import Pipeline\n",
    "\n",
    "# Create a pipeline \n",
    "# step1 - Create polynomial features\n",
    "# step2 - Use linear regression\n",
    "m2 = Pipeline([('poly', PolynomialFeatures(degree=2)),\n",
    "                  ('linear', LinearRegression(fit_intercept=False))])\n",
    "\n",
    "# fold1\n",
    "clf2 = m2.fit(X_train1,y_train1)\n",
    "y_pred1 = clf2.predict(X_test1)\n",
    "\n",
    "# fold2\n",
    "clf2 = m2.fit(X_train2,y_train2)\n",
    "y_pred2 = clf2.predict(X_test2)\n",
    "\n",
    "# Inverse transform\n",
    "y_raw   = [*y_pred1, *y_pred2]\n",
    "y_predr = [round(x) for x in [*y_pred1, *y_pred2]]\n",
    "y_predr = le.inverse_transform([2 if v >= 3 else 0 if v < 0 else v for v in y_predr])\n",
    "y_testr = le.inverse_transform([*y_test1, *y_test2])\n",
    "\n",
    "# Metrics\n",
    "metrics(y_testr,y_predr, 'Polynomial Regression with degree2')\n",
    "\n",
    "# Test \n",
    "with pd.ExcelWriter('test.xlsx', mode='a') as writer:\n",
    "    pd.DataFrame({'actual' : y_testr, 'pred' : y_predr,'raw' : y_raw}).to_excel(writer,sheet_name='PolyReg2',index=False)"
   ]
  },
  {
   "cell_type": "code",
   "execution_count": 8,
   "id": "continuous-knight",
   "metadata": {},
   "outputs": [
    {
     "name": "stdout",
     "output_type": "stream",
     "text": [
      "Number of mislabeled points out of a total 150 points : 13\n",
      "Accuracy of the Polynomial Regression with degree3 model: 0.913333\n",
      "\n"
     ]
    },
    {
     "data": {
      "image/png": "[encoded data removed]",
      "text/plain": [
       "<Figure size 432x288 with 2 Axes>"
      ]
     },
     "metadata": {
      "needs_background": "light"
     },
     "output_type": "display_data"
    }
   ],
   "source": [
    "# Model-3-Polynomial regression with degree 3\n",
    "from sklearn.preprocessing import PolynomialFeatures\n",
    "from sklearn.pipeline import Pipeline\n",
    "\n",
    "# Create a pipeline \n",
    "# step1 - Create polynomial features\n",
    "# step2 - Use linear regression\n",
    "m3 = Pipeline([('poly', PolynomialFeatures(degree=3)),\n",
    "                  ('linear', LinearRegression(fit_intercept=False))])\n",
    "\n",
    "# fold1\n",
    "clf3 = m3.fit(X_train1,y_train1)\n",
    "y_pred1 = clf3.predict(X_test1)\n",
    "\n",
    "# fold2\n",
    "clf3 = m3.fit(X_train2,y_train2)\n",
    "y_pred2 = clf3.predict(X_test2)\n",
    "\n",
    "# Inverse transform\n",
    "y_raw   = [*y_pred1, *y_pred2]\n",
    "y_predr = [round(x) for x in [*y_pred1, *y_pred2]]\n",
    "y_predr = le.inverse_transform([2 if v >= 3 else 0 if v < 0 else v for v in y_predr])\n",
    "y_testr = le.inverse_transform([*y_test1, *y_test2])\n",
    "\n",
    "# Metrics\n",
    "metrics(y_testr,y_predr, 'Polynomial Regression with degree3')\n",
    "\n",
    "# Test \n",
    "with pd.ExcelWriter('test.xlsx', mode='a') as writer:\n",
    "    pd.DataFrame({'actual' : y_testr, 'pred' : y_predr,'raw' : y_raw}).to_excel(writer,sheet_name='PolyReg3',index=False)"
   ]
  },
  {
   "cell_type": "code",
   "execution_count": 9,
   "id": "difficult-wheel",
   "metadata": {},
   "outputs": [
    {
     "name": "stdout",
     "output_type": "stream",
     "text": [
      "Number of mislabeled points out of a total 150 points : 6\n",
      "Accuracy of the Naive Bayes model: 0.960000\n",
      "\n"
     ]
    },
    {
     "data": {
      "image/png": "[encoded data removed]",
      "text/plain": [
       "<Figure size 432x288 with 2 Axes>"
      ]
     },
     "metadata": {
      "needs_background": "light"
     },
     "output_type": "display_data"
    }
   ],
   "source": [
    "# Model-4-Naive Bayesian classifier\n",
    "from sklearn.naive_bayes import GaussianNB\n",
    "m4 = GaussianNB()\n",
    "#clf4 = gnb.fit(X_train, y_train)\n",
    "\n",
    "# fold1\n",
    "clf4 = m4.fit(X_train1,y_train1)\n",
    "y_pred1 = clf4.predict(X_test1)\n",
    "\n",
    "# fold2\n",
    "clf4 = m4.fit(X_train2,y_train2)\n",
    "y_pred2 = clf4.predict(X_test2)\n",
    "\n",
    "# Inverse transform\n",
    "y_raw   = [*y_pred1, *y_pred2]\n",
    "#y_predr = [round(x) for x in [*y_pred1, *y_pred2]]\n",
    "y_predr = le.inverse_transform(y_raw)\n",
    "y_testr = le.inverse_transform([*y_test1, *y_test2])\n",
    "\n",
    "# Metrics\n",
    "metrics(y_testr,y_predr, 'Naive Bayes')\n",
    "\n",
    "# Test \n",
    "with pd.ExcelWriter('test.xlsx', mode='a') as writer:\n",
    "    pd.DataFrame({'actual' : y_testr, 'pred' : y_predr,'raw' : y_raw}).to_excel(writer,sheet_name='NaiveBayes',index=False)"
   ]
  },
  {
   "cell_type": "code",
   "execution_count": 10,
   "id": "center-edmonton",
   "metadata": {},
   "outputs": [
    {
     "name": "stdout",
     "output_type": "stream",
     "text": [
      "Number of mislabeled points out of a total 150 points : 4\n",
      "Accuracy of the K Neighbour model: 0.973333\n",
      "\n"
     ]
    },
    {
     "data": {
      "image/png": "[encoded data removed]",
      "text/plain": [
       "<Figure size 432x288 with 2 Axes>"
      ]
     },
     "metadata": {
      "needs_background": "light"
     },
     "output_type": "display_data"
    }
   ],
   "source": [
    "# Model-5-K-Neighbors classifier\n",
    "from sklearn.neighbors import KNeighborsClassifier\n",
    "\n",
    "m5 = KNeighborsClassifier(n_neighbors=10)\n",
    "\n",
    "# fold1\n",
    "clf5 = m5.fit(X_train1,y_train1)\n",
    "y_pred1 = clf5.predict(X_test1)\n",
    "\n",
    "# fold2\n",
    "clf5 = m5.fit(X_train2,y_train2)\n",
    "y_pred2 = clf5.predict(X_test2)\n",
    "\n",
    "# Inverse transform\n",
    "y_raw   = [*y_pred1, *y_pred2]\n",
    "#y_predr = [round(x) for x in [*y_pred1, *y_pred2]]\n",
    "y_predr = le.inverse_transform(y_raw)\n",
    "y_testr = le.inverse_transform([*y_test1, *y_test2])\n",
    "\n",
    "# Metrics\n",
    "metrics(y_testr,y_predr, 'K Neighbour')\n",
    "\n",
    "# Test \n",
    "with pd.ExcelWriter('test.xlsx', mode='a') as writer:\n",
    "    pd.DataFrame({'actual' : y_testr, 'pred' : y_predr,'raw' : y_raw}).to_excel(writer,sheet_name='KNN',index=False)"
   ]
  },
  {
   "cell_type": "code",
   "execution_count": 11,
   "id": "molecular-intention",
   "metadata": {},
   "outputs": [
    {
     "name": "stdout",
     "output_type": "stream",
     "text": [
      "Number of mislabeled points out of a total 150 points : 4\n",
      "Accuracy of the Linear Discriminant Analysis model: 0.973333\n",
      "\n"
     ]
    },
    {
     "data": {
      "image/png": "[encoded data removed]",
      "text/plain": [
       "<Figure size 432x288 with 2 Axes>"
      ]
     },
     "metadata": {
      "needs_background": "light"
     },
     "output_type": "display_data"
    }
   ],
   "source": [
    "# Model-6-K-LDA (LinearDiscriminantAnalysis) classifier\n",
    "from sklearn.discriminant_analysis import LinearDiscriminantAnalysis\n",
    "\n",
    "m6 = LinearDiscriminantAnalysis()\n",
    "\n",
    "# fold1\n",
    "clf6 = m6.fit(X_train1,y_train1)\n",
    "y_pred1 = clf6.predict(X_test1)\n",
    "\n",
    "# fold2\n",
    "clf6 = m6.fit(X_train2,y_train2)\n",
    "y_pred2 = clf6.predict(X_test2)\n",
    "\n",
    "# Inverse transform\n",
    "y_raw   = [*y_pred1, *y_pred2]\n",
    "#y_predr = [round(x) for x in [*y_pred1, *y_pred2]]\n",
    "y_predr = le.inverse_transform(y_raw)\n",
    "y_testr = le.inverse_transform([*y_test1, *y_test2])\n",
    "\n",
    "# Metrics\n",
    "metrics(y_testr,y_predr, 'Linear Discriminant Analysis')\n",
    "\n",
    "# Test \n",
    "with pd.ExcelWriter('test.xlsx', mode='a') as writer:\n",
    "    pd.DataFrame({'actual' : y_testr, 'pred' : y_predr,'raw' : y_raw}).to_excel(writer,sheet_name='LDA',index=False)"
   ]
  },
  {
   "cell_type": "code",
   "execution_count": 12,
   "id": "sensitive-parcel",
   "metadata": {},
   "outputs": [
    {
     "name": "stdout",
     "output_type": "stream",
     "text": [
      "Number of mislabeled points out of a total 150 points : 6\n",
      "Accuracy of the Quadratic Discriminant Analysis model: 0.960000\n",
      "\n"
     ]
    },
    {
     "data": {
      "image/png": "[encoded data removed]",
      "text/plain": [
       "<Figure size 432x288 with 2 Axes>"
      ]
     },
     "metadata": {
      "needs_background": "light"
     },
     "output_type": "display_data"
    }
   ],
   "source": [
    "# Model-7-K-QDA (QuadraticDiscriminantAnalysis) classifier\n",
    "from sklearn.discriminant_analysis import QuadraticDiscriminantAnalysis\n",
    "\n",
    "m7 = QuadraticDiscriminantAnalysis()\n",
    "\n",
    "# fold1\n",
    "clf7 = m7.fit(X_train1,y_train1)\n",
    "y_pred1 = clf7.predict(X_test1)\n",
    "\n",
    "# fold2\n",
    "clf7 = m7.fit(X_train2,y_train2)\n",
    "y_pred2 = clf7.predict(X_test2)\n",
    "\n",
    "# Inverse transform\n",
    "y_raw   = [*y_pred1, *y_pred2]\n",
    "#y_predr = [round(x) for x in [*y_pred1, *y_pred2]]\n",
    "y_predr = le.inverse_transform(y_raw)\n",
    "y_testr = le.inverse_transform([*y_test1, *y_test2])\n",
    "\n",
    "# Metrics\n",
    "metrics(y_testr,y_predr, 'Quadratic Discriminant Analysis')\n",
    "\n",
    "# Test \n",
    "with pd.ExcelWriter('test.xlsx', mode='a') as writer:\n",
    "    pd.DataFrame({'actual' : y_testr, 'pred' : y_predr,'raw' : y_raw}).to_excel(writer,sheet_name='QDA',index=False)"
   ]
  },
  {
   "cell_type": "code",
   "execution_count": null,
   "id": "equal-aircraft",
   "metadata": {},
   "outputs": [],
   "source": []
  }
 ],
 "metadata": {
  "kernelspec": {
   "display_name": "Python 3",
   "language": "python",
   "name": "python3"
  },
  "language_info": {
   "codemirror_mode": {
    "name": "ipython",
    "version": 3
   },
   "file_extension": ".py",
   "mimetype": "text/x-python",
   "name": "python",
   "nbconvert_exporter": "python",
   "pygments_lexer": "ipython3",
   "version": "3.8.8"
  }
 },
 "nbformat": 4,
 "nbformat_minor": 5
}
