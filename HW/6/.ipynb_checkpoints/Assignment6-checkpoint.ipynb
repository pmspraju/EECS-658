{
 "cells": [
  {
   "cell_type": "markdown",
   "id": "certain-treasury",
   "metadata": {},
   "source": [
    "# Assignment 5"
   ]
  },
  {
   "cell_type": "markdown",
   "id": "fiscal-quarterly",
   "metadata": {},
   "source": [
    "## Part 1"
   ]
  },
  {
   "cell_type": "code",
   "execution_count": 107,
   "id": "resistant-holocaust",
   "metadata": {},
   "outputs": [
    {
     "name": "stdout",
     "output_type": "stream",
     "text": [
      "Python: 3.8.8 (default, Feb 24 2021, 15:54:32) [MSC v.1928 64 bit (AMD64)]\n",
      "scipy: 1.7.1\n",
      "numpy: 1.19.2\n",
      "pandas: 1.1.3\n",
      "sklearn: 0.24.2\n",
      "Hello World!\n"
     ]
    }
   ],
   "source": [
    "# Import relevant libraries\n",
    "import os\n",
    "import sys\n",
    "print('Python: {}'.format(sys.version))\n",
    "\n",
    "import scipy\n",
    "print('scipy: {}'.format(scipy.__version__))\n",
    "\n",
    "import numpy as np\n",
    "print('numpy: {}'.format(np.__version__))\n",
    "\n",
    "import pandas as pd\n",
    "pd.options.mode.chained_assignment = None  # default='warn'\n",
    "#pd.set_option(\"display.max_rows\", None, \"display.max_columns\", None)\n",
    "print('pandas: {}'.format(pd.__version__))\n",
    "\n",
    "import sklearn\n",
    "print('sklearn: {}'.format(sklearn.__version__))\n",
    "\n",
    "from sklearn.metrics import accuracy_score, confusion_matrix,ConfusionMatrixDisplay, recall_score\n",
    "\n",
    "print(\"Hello World!\")"
   ]
  },
  {
   "cell_type": "code",
   "execution_count": 108,
   "id": "paperback-plant",
   "metadata": {},
   "outputs": [],
   "source": [
    "# Read the file\n",
    "from sklearn import datasets\n",
    "\n",
    "path = r'C:\\Users\\pmspr\\Documents\\HS\\MS\\Sem 6\\EECS 658\\Data'\n",
    "filename = \"iris.csv\"\n",
    "data = pd.read_csv(os.path.join(path,filename))\n",
    "\n",
    "y = data.pop('class')\n",
    "X = data"
   ]
  },
  {
   "cell_type": "markdown",
   "id": "dedicated-jenny",
   "metadata": {},
   "source": [
    "### Part 1"
   ]
  },
  {
   "cell_type": "code",
   "execution_count": 109,
   "id": "bibliographic-sampling",
   "metadata": {},
   "outputs": [],
   "source": [
    "def re(dfp):\n",
    "    _ = dfp.pop('clusters')\n",
    "    m = dfp.describe().loc['mean']\n",
    "    cols = dfp.columns\n",
    "    for c in cols:\n",
    "        dfp.loc[:,c] = dfp.loc[:,c].apply( lambda a: pow( (a-m[c]),2 ) )\n",
    "    return(dfp.values.sum())\n",
    "    \n",
    "def reconErr(df):\n",
    "    ire = [re(df[df['clusters'] == i]) for i in df['clusters'].unique()]\n",
    "    return(sum(ire))\n",
    "\n",
    "def kmeansModel(dat,n_cls):\n",
    "    model = KMeans(n_clusters=n_cls, random_state=0)\n",
    "    model.fit(dat)\n",
    "    clusters = model.predict(dat)\n",
    "    dat['clusters'] = clusters\n",
    "    recon_error = reconErr(dat)\n",
    "    return(recon_error)"
   ]
  },
  {
   "cell_type": "code",
   "execution_count": 110,
   "id": "political-patent",
   "metadata": {},
   "outputs": [
    {
     "name": "stdout",
     "output_type": "stream",
     "text": [
      "*************\n",
      "Part-1-k-Means Clustering\n",
      "*************\n"
     ]
    },
    {
     "name": "stderr",
     "output_type": "stream",
     "text": [
      "C:\\ProgramData\\Anaconda2\\envs\\P37\\lib\\site-packages\\sklearn\\cluster\\_kmeans.py:881: UserWarning: KMeans is known to have a memory leak on Windows with MKL, when there are less chunks than available threads. You can avoid it by setting the environment variable OMP_NUM_THREADS=1.\n",
      "  warnings.warn(\n"
     ]
    },
    {
     "data": {
      "image/png": "[encoded data removed]",
      "text/plain": [
       "<Figure size 432x288 with 1 Axes>"
      ]
     },
     "metadata": {},
     "output_type": "display_data"
    }
   ],
   "source": [
    "print('*************')\n",
    "print('Part-1-k-Means Clustering')\n",
    "print('*************')\n",
    "\n",
    "from sklearn.cluster import KMeans\n",
    "import matplotlib.pyplot as plt\n",
    "plt.style.use('seaborn-whitegrid')\n",
    "\n",
    "# Compute reconstruction error for k= 1 to 20\n",
    "recon_errlist = [kmeansModel(X,i) for i in range(1,21)]\n",
    "\n",
    "#plot the elobow curve\n",
    "_ = plt.plot(range(1,21), recon_errlist, marker='o', color='g')\n",
    "_=plt.xlabel('K'); _=plt.ylabel('Reconstruction error'); _=plt.title('Elbow curve')"
   ]
  },
  {
   "cell_type": "code",
   "execution_count": 199,
   "id": "wicked-fifteen",
   "metadata": {},
   "outputs": [
    {
     "name": "stdout",
     "output_type": "stream",
     "text": [
      "Appropriate K from elbow curve: 3\n"
     ]
    }
   ],
   "source": [
    "# Calculate the K algorithmically\n",
    "dif = abs(np.diff(recon_errlist))\n",
    "\n",
    "elbow_k=0\n",
    "for i,val in enumerate(dif):\n",
    "    if (i < (len(dif) - 1)):\n",
    "        if( (val - dif[i+1]) > np.median(recon_errlist) ):\n",
    "            elbow_k=elbow_k+1\n",
    "print('Appropriate K from elbow curve:', elbow_k+1)"
   ]
  },
  {
   "cell_type": "code",
   "execution_count": 121,
   "id": "parental-bread",
   "metadata": {
    "scrolled": true
   },
   "outputs": [
    {
     "name": "stdout",
     "output_type": "stream",
     "text": [
      "Confusion matrix for k-means clustering using elbow_k clusters:\n",
      "[[50  0  0]\n",
      " [ 0 48  2]\n",
      " [ 0 14 36]]\n",
      "\n",
      "Accuracy score for k-means with elbow_k clusters: 0.8933333333333333\n"
     ]
    }
   ],
   "source": [
    "#k-means clustering using elbow_k clusters\n",
    "data = pd.read_csv(os.path.join(path,filename))\n",
    "y = data.pop('class')\n",
    "X = data\n",
    "\n",
    "ek_model = KMeans(n_clusters=elbow_k, random_state=0)\n",
    "ek_model.fit(X)\n",
    "clusters = ek_model.predict(X)\n",
    "k_labels = clusters # ek_model.labels_  # Get cluster labels\n",
    "k_labels_matched = np.empty_like(k_labels, dtype=np.dtype('U25'))\n",
    "\n",
    "for k in np.unique(k_labels):\n",
    "    \n",
    "    # ...find and assign the best-matching truth label\n",
    "    cpart = np.array(y)[(np.where(k_labels==k)[0])]\n",
    "    match_nums = [ len(cpart[cpart==t]) for t in np.unique(y) ]\n",
    "    k_labels_matched[k_labels==k] = np.unique(y)[np.argmax(match_nums)]\n",
    "      \n",
    "from sklearn.metrics import confusion_matrix, accuracy_score\n",
    "cm = confusion_matrix(y, k_labels_matched)\n",
    "print('Confusion matrix for k-means clustering using elbow_k clusters:')\n",
    "print(cm)\n",
    "print()\n",
    "print('Accuracy score for k-means with elbow_k clusters:', accuracy_score(y, k_labels_matched))"
   ]
  },
  {
   "cell_type": "code",
   "execution_count": 122,
   "id": "speaking-driving",
   "metadata": {},
   "outputs": [
    {
     "name": "stdout",
     "output_type": "stream",
     "text": [
      "Confusion matrix for k-means clustering using k=3 clusters:\n",
      "[[50  0  0]\n",
      " [ 0 48  2]\n",
      " [ 0 14 36]]\n",
      "\n",
      "Accuracy score for k-means with k=3 clusters: 0.8933333333333333\n"
     ]
    }
   ],
   "source": [
    "#k-means clustering using k=3 clusters\n",
    "data = pd.read_csv(os.path.join(path,filename))\n",
    "y = data.pop('class')\n",
    "X = data\n",
    "\n",
    "k_3 = KMeans(n_clusters=3, random_state=0)\n",
    "k_3.fit(X)\n",
    "clusters = k_3.predict(X)\n",
    "\n",
    "k_labels = clusters # ek_model.labels_  # Get cluster labels\n",
    "k_labels_matched = np.empty_like(k_labels, dtype=np.dtype('U25'))\n",
    "\n",
    "# For each cluster label...\n",
    "for k in np.unique(k_labels):\n",
    "    \n",
    "    # ...find and assign the best-matching truth label\n",
    "    cpart = np.array(y)[(np.where(k_labels==k)[0])]\n",
    "    match_nums = [ len(cpart[cpart==t]) for t in np.unique(y) ]\n",
    "    k_labels_matched[k_labels==k] = np.unique(y)[np.argmax(match_nums)]\n",
    "    \n",
    "from sklearn.metrics import confusion_matrix, accuracy_score\n",
    "cm = confusion_matrix(y, k_labels_matched)\n",
    "print('Confusion matrix for k-means clustering using k=3 clusters:')\n",
    "print(cm)\n",
    "print()\n",
    "print('Accuracy score for k-means with k=3 clusters:', accuracy_score(y, k_labels_matched))"
   ]
  },
  {
   "cell_type": "markdown",
   "id": "placed-weight",
   "metadata": {},
   "source": [
    "## Part 2"
   ]
  },
  {
   "cell_type": "code",
   "execution_count": 207,
   "id": "appointed-hebrew",
   "metadata": {},
   "outputs": [],
   "source": [
    "def GaussianModel(dat,n_cls):\n",
    "    gmm = mixture.GaussianMixture(n_components=n_cls, covariance_type=\"diag\")\n",
    "    gmm.fit(dat)\n",
    "    \n",
    "    return(gmm.aic(dat), gmm.bic(dat))"
   ]
  },
  {
   "cell_type": "code",
   "execution_count": 259,
   "id": "hollywood-season",
   "metadata": {},
   "outputs": [
    {
     "name": "stdout",
     "output_type": "stream",
     "text": [
      "*************\n",
      "Part-2-GMM Clustering\n",
      "*************\n"
     ]
    },
    {
     "name": "stderr",
     "output_type": "stream",
     "text": [
      "C:\\ProgramData\\Anaconda2\\envs\\P37\\lib\\site-packages\\sklearn\\cluster\\_kmeans.py:881: UserWarning: KMeans is known to have a memory leak on Windows with MKL, when there are less chunks than available threads. You can avoid it by setting the environment variable OMP_NUM_THREADS=1.\n",
      "  warnings.warn(\n"
     ]
    },
    {
     "data": {
      "image/png": "[encoded data removed]",
      "text/plain": [
       "<Figure size 432x288 with 1 Axes>"
      ]
     },
     "metadata": {},
     "output_type": "display_data"
    }
   ],
   "source": [
    "print('*************')\n",
    "print('Part-2-GMM Clustering')\n",
    "print('*************')\n",
    "\n",
    "from sklearn import mixture\n",
    "import matplotlib.pyplot as plt\n",
    "plt.style.use('seaborn-whitegrid')\n",
    "\n",
    "data = pd.read_csv(os.path.join(path,filename))\n",
    "y = data.pop('class')\n",
    "X = data\n",
    "\n",
    "# Compute aic and bic values for k= 1 to 20\n",
    "aic_bic_list = [GaussianModel(X,i) for i in range(1,21)]\n",
    "aic_list = [i[0] for i in aic_bic_list]\n",
    "aic_elbow_k = 3\n",
    "\n",
    "#plot the elobow curve\n",
    "_ = plt.plot(range(1,21), aic_list, marker='o', color='g')\n",
    "_=plt.xlabel('K'); _=plt.ylabel('AIC'); _=plt.title('AIC vs k')"
   ]
  },
  {
   "cell_type": "code",
   "execution_count": 260,
   "id": "olive-memory",
   "metadata": {},
   "outputs": [
    {
     "data": {
      "image/png": "[encoded data removed]",
      "text/plain": [
       "<Figure size 432x288 with 1 Axes>"
      ]
     },
     "metadata": {},
     "output_type": "display_data"
    }
   ],
   "source": [
    "bic_list = [i[1] for i in aic_bic_list]\n",
    "\n",
    "#plot the elobow curve\n",
    "_ = plt.plot(range(1,21), bic_list, marker='o', color='g')\n",
    "_=plt.xlabel('K'); _=plt.ylabel('BIC'); _=plt.title('BIC vs k')"
   ]
  },
  {
   "cell_type": "code",
   "execution_count": 229,
   "id": "heard-parking",
   "metadata": {},
   "outputs": [
    {
     "name": "stdout",
     "output_type": "stream",
     "text": [
      "Appropriate K from elbow curve: 3\n"
     ]
    }
   ],
   "source": [
    "# Calculate the K algorithmically\n",
    "dif = abs(np.diff(bic_list))\n",
    "bic_elbow_k=0\n",
    "for i,val in enumerate(dif):\n",
    "    if( val > np.subtract(*np.percentile(bic_list, [50, 25])) ):\n",
    "        bic_elbow_k=bic_elbow_k+1\n",
    "print('Appropriate K from elbow curve:', bic_elbow_k)"
   ]
  },
  {
   "cell_type": "code",
   "execution_count": 261,
   "id": "disabled-glance",
   "metadata": {},
   "outputs": [
    {
     "name": "stdout",
     "output_type": "stream",
     "text": [
      "Confusion matrix for gmm clustering using k=aic_elbow_k clusters:\n",
      "[[50  0  0]\n",
      " [ 0 49  1]\n",
      " [ 0 14 36]]\n",
      "\n",
      "Accuracy score for gmm with k=aic_elbow_k clusters: 0.9\n"
     ]
    }
   ],
   "source": [
    "#GMM clustering using k=aic_elbow_k clusters\n",
    "data = pd.read_csv(os.path.join(path,filename))\n",
    "y = data.pop('class')\n",
    "X = data\n",
    "\n",
    "gmm_aic = mixture.GaussianMixture(n_components=aic_elbow_k, covariance_type=\"diag\")\n",
    "gmm_aic.fit(X)\n",
    "clusters = gmm_aic.predict(X)\n",
    "\n",
    "k_labels = clusters # ek_model.labels_  # Get cluster labels\n",
    "k_labels_matched = np.empty_like(k_labels, dtype=np.dtype('U25'))\n",
    "\n",
    "# For each cluster label...\n",
    "for k in np.unique(k_labels):\n",
    "    \n",
    "    # ...find and assign the best-matching truth label\n",
    "    cpart = np.array(y)[(np.where(k_labels==k)[0])]\n",
    "    match_nums = [ len(cpart[cpart==t]) for t in np.unique(y) ]\n",
    "    k_labels_matched[k_labels==k] = np.unique(y)[np.argmax(match_nums)]\n",
    "    \n",
    "from sklearn.metrics import confusion_matrix, accuracy_score\n",
    "cm = confusion_matrix(y, k_labels_matched)\n",
    "print('Confusion matrix for gmm clustering using k=aic_elbow_k clusters:')\n",
    "print(cm)\n",
    "print()\n",
    "print('Accuracy score for gmm with k=aic_elbow_k clusters:', accuracy_score(y, k_labels_matched))"
   ]
  },
  {
   "cell_type": "code",
   "execution_count": 263,
   "id": "royal-surprise",
   "metadata": {},
   "outputs": [
    {
     "name": "stdout",
     "output_type": "stream",
     "text": [
      "Confusion matrix for gmm clustering using k=bic_elbow_k clusters:\n",
      "[[50  0  0]\n",
      " [ 0 50  0]\n",
      " [ 0 14 36]]\n",
      "\n",
      "Accuracy score for gmm with k=bic_elbow_k clusters: 0.9066666666666666\n"
     ]
    }
   ],
   "source": [
    "#GMM clustering using k=aic_elbow_k clusters\n",
    "data = pd.read_csv(os.path.join(path,filename))\n",
    "y = data.pop('class')\n",
    "X = data\n",
    "\n",
    "gmm_aic = mixture.GaussianMixture(n_components=bic_elbow_k, covariance_type=\"diag\")\n",
    "gmm_aic.fit(X)\n",
    "clusters = gmm_aic.predict(X)\n",
    "\n",
    "k_labels = clusters # ek_model.labels_  # Get cluster labels\n",
    "k_labels_matched = np.empty_like(k_labels, dtype=np.dtype('U25'))\n",
    "\n",
    "# For each cluster label...\n",
    "for k in np.unique(k_labels):\n",
    "    \n",
    "    # ...find and assign the best-matching truth label\n",
    "    cpart = np.array(y)[(np.where(k_labels==k)[0])]\n",
    "    match_nums = [ len(cpart[cpart==t]) for t in np.unique(y) ]\n",
    "    k_labels_matched[k_labels==k] = np.unique(y)[np.argmax(match_nums)]\n",
    "    \n",
    "from sklearn.metrics import confusion_matrix, accuracy_score\n",
    "cm = confusion_matrix(y, k_labels_matched)\n",
    "print('Confusion matrix for gmm clustering using k=bic_elbow_k clusters:')\n",
    "print(cm)\n",
    "print()\n",
    "print('Accuracy score for gmm with k=bic_elbow_k clusters:', accuracy_score(y, k_labels_matched))"
   ]
  },
  {
   "cell_type": "code",
   "execution_count": 264,
   "id": "federal-mineral",
   "metadata": {},
   "outputs": [
    {
     "name": "stdout",
     "output_type": "stream",
     "text": [
      "Confusion matrix for gmm clustering using k=3 clusters:\n",
      "[[50  0  0]\n",
      " [ 0 49  1]\n",
      " [ 0 14 36]]\n",
      "\n",
      "Accuracy score for gmm with k=3 clusters: 0.9\n"
     ]
    }
   ],
   "source": [
    "#GMM clustering using k=aic_elbow_k clusters\n",
    "data = pd.read_csv(os.path.join(path,filename))\n",
    "y = data.pop('class')\n",
    "X = data\n",
    "\n",
    "gmm_aic = mixture.GaussianMixture(n_components=3, covariance_type=\"diag\")\n",
    "gmm_aic.fit(X)\n",
    "clusters = gmm_aic.predict(X)\n",
    "\n",
    "k_labels = clusters # ek_model.labels_  # Get cluster labels\n",
    "k_labels_matched = np.empty_like(k_labels, dtype=np.dtype('U25'))\n",
    "\n",
    "# For each cluster label...\n",
    "for k in np.unique(k_labels):\n",
    "    \n",
    "    # ...find and assign the best-matching truth label\n",
    "    cpart = np.array(y)[(np.where(k_labels==k)[0])]\n",
    "    match_nums = [ len(cpart[cpart==t]) for t in np.unique(y) ]\n",
    "    k_labels_matched[k_labels==k] = np.unique(y)[np.argmax(match_nums)]\n",
    "    \n",
    "from sklearn.metrics import confusion_matrix, accuracy_score\n",
    "cm = confusion_matrix(y, k_labels_matched)\n",
    "print('Confusion matrix for gmm clustering using k=3 clusters:')\n",
    "print(cm)\n",
    "print()\n",
    "print('Accuracy score for gmm with k=3 clusters:', accuracy_score(y, k_labels_matched))"
   ]
  },
  {
   "cell_type": "code",
   "execution_count": null,
   "id": "dramatic-score",
   "metadata": {},
   "outputs": [],
   "source": []
  }
 ],
 "metadata": {
  "kernelspec": {
   "display_name": "Python 3",
   "language": "python",
   "name": "python3"
  },
  "language_info": {
   "codemirror_mode": {
    "name": "ipython",
    "version": 3
   },
   "file_extension": ".py",
   "mimetype": "text/x-python",
   "name": "python",
   "nbconvert_exporter": "python",
   "pygments_lexer": "ipython3",
   "version": "3.8.8"
  }
 },
 "nbformat": 4,
 "nbformat_minor": 5
}
