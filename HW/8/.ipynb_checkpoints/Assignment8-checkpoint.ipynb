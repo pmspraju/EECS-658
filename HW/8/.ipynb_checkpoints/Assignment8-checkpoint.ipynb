{
 "cells": [
  {
   "cell_type": "markdown",
   "id": "certain-treasury",
   "metadata": {},
   "source": [
    "# Assignment 8"
   ]
  },
  {
   "cell_type": "markdown",
   "id": "fiscal-quarterly",
   "metadata": {},
   "source": [
    "## Part 1"
   ]
  },
  {
   "cell_type": "code",
   "execution_count": 14,
   "id": "resistant-holocaust",
   "metadata": {},
   "outputs": [
    {
     "name": "stdout",
     "output_type": "stream",
     "text": [
      "Python: 3.8.8 (default, Feb 24 2021, 15:54:32) [MSC v.1928 64 bit (AMD64)]\n",
      "scipy: 1.7.1\n",
      "numpy: 1.19.2\n",
      "pandas: 1.1.3\n",
      "sklearn: 0.24.2\n",
      "Hello World!\n"
     ]
    }
   ],
   "source": [
    "# Import relevant libraries\n",
    "import os\n",
    "import sys\n",
    "import random\n",
    "print('Python: {}'.format(sys.version))\n",
    "\n",
    "import scipy\n",
    "print('scipy: {}'.format(scipy.__version__))\n",
    "\n",
    "import numpy as np\n",
    "print('numpy: {}'.format(np.__version__))\n",
    "\n",
    "import pandas as pd\n",
    "pd.options.mode.chained_assignment = None  # default='warn'\n",
    "#pd.set_option(\"display.max_rows\", None, \"display.max_columns\", None)\n",
    "print('pandas: {}'.format(pd.__version__))\n",
    "\n",
    "import sklearn\n",
    "print('sklearn: {}'.format(sklearn.__version__))\n",
    "\n",
    "from sklearn.metrics import accuracy_score, confusion_matrix,ConfusionMatrixDisplay, recall_score\n",
    "\n",
    "print(\"Hello World!\")"
   ]
  },
  {
   "cell_type": "markdown",
   "id": "dedicated-jenny",
   "metadata": {},
   "source": [
    "### Part 1"
   ]
  },
  {
   "cell_type": "code",
   "execution_count": 43,
   "id": "bibliographic-sampling",
   "metadata": {},
   "outputs": [],
   "source": [
    "def computeGs(sar_value, gamma):\n",
    "    \n",
    "    # (-1)*0.9^0 + (-1)*0.9 + (-1)*0.9^2..\n",
    "    return sum([val[1]*(gamma ** i) for i, val in enumerate(sar_value)])\n",
    "            "
   ]
  },
  {
   "cell_type": "code",
   "execution_count": 66,
   "id": "political-patent",
   "metadata": {},
   "outputs": [
    {
     "name": "stdout",
     "output_type": "stream",
     "text": [
      "*************\n",
      "Part-1-Monte Carlo First-visit\n",
      "*************\n",
      "[[ 0  1  2  3  4]\n",
      " [ 5  6  7  8  9]\n",
      " [10 11 12 13 14]\n",
      " [15 16 17 18 19]\n",
      " [20 21 22 23  0]]\n",
      "[[ 0 49 59 48 39]\n",
      " [42 50 60 53 42]\n",
      " [40 48 61 53 47]\n",
      " [40 50 55 53 43]\n",
      " [32 38 47 40  0]]\n",
      "[[   0 -263 -396 -362 -315]\n",
      " [-188 -331 -441 -418 -341]\n",
      " [-286 -385 -466 -411 -336]\n",
      " [-336 -417 -426 -350 -231]\n",
      " [-276 -312 -339 -221    0]]\n",
      "[[        nan -5.36734694 -6.71186441 -7.54166667 -8.07692308]\n",
      " [-4.47619048 -6.62       -7.35       -7.88679245 -8.11904762]\n",
      " [-7.15       -8.02083333 -7.63934426 -7.75471698 -7.14893617]\n",
      " [-8.4        -8.34       -7.74545455 -6.60377358 -5.37209302]\n",
      " [-8.625      -8.21052632 -7.21276596 -5.525              nan]]\n"
     ]
    }
   ],
   "source": [
    "print('*************')\n",
    "print('Part-1-Monte Carlo First-visit')\n",
    "print('*************')\n",
    "\n",
    "actions = ['u', 'd', 'r', 'l'] #up down right left\n",
    "reward = -1\n",
    "gamma = 0.9 # discount factor\n",
    "\n",
    "states = np.array([[0,1,2,3,4], [5,6,7,8,9], [10,11,12,13,14], [15,16,17,18,19], [20,21,22,23,0]])\n",
    "rewrds = np.array([[0,-1,-1,-1,-1], [-1,-1,-1,-1,-1], [-1,-1,-1,-1,-1], [-1,-1,-1,-1,-1], [-1,-1,-1,-1,0]])\n",
    "\n",
    "ns = np.array([[0,0,0,0,0], [0,0,0,0,0], [0,0,0,0,0], [0,0,0,0,0], [0,0,0,0,0]])\n",
    "ss = np.array([[0,0,0,0,0], [0,0,0,0,0], [0,0,0,0,0], [0,0,0,0,0], [0,0,0,0,0]])\n",
    "vs = np.array([[0,0,0,0,0], [0,0,0,0,0], [0,0,0,0,0], [0,0,0,0,0], [0,0,0,0,0]])\n",
    "\n",
    "itrs = 0\n",
    "while (itrs <= 100):\n",
    "    \n",
    "    rs = random.choice(states.ravel()[1:-1])\n",
    "    \n",
    "    ind = np.where(states == rs)\n",
    "    \n",
    "    state_reward_action_pair = []; i=ind[0][0]; j=ind[1][0]\n",
    "    while not ((i==0 and j==0) or (i==4 and j==4)):\n",
    "        ract = random.choice(actions)\n",
    "        state_reward_action_pair.append((states[i][j], rewrds[i][j], ract))\n",
    "        if (ract == \"u\"):\n",
    "            if ((i-1) >= 0):\n",
    "                i=i-1\n",
    "        if (ract == \"d\"):\n",
    "            if ((i+1) <= 4):\n",
    "                i=i+1         \n",
    "        if (ract == \"r\"):\n",
    "            if ((j+1) <= 4):\n",
    "                j=j+1\n",
    "        if (ract == \"l\"):\n",
    "            if ((j-1) >= 0):\n",
    "                j=j-1\n",
    "    \n",
    "    # Create a tuple like (state, reward, action, G(s))\n",
    "    gslist = [(*tup, computeGs(state_reward_action_pair[i:], gamma)) for i,tup in enumerate(state_reward_action_pair)]\n",
    "    \n",
    "    # Get unique states \n",
    "    uniq_states = list(set([tup[0] for tup in state_reward_action_pair]))\n",
    "    \n",
    "    # Compute N(s) and S(s)\n",
    "    for ust in uniq_states:\n",
    "        uin = np.where(states == ust)\n",
    "        ui=uin[0][0]; uj=uin[1][0]\n",
    "        \n",
    "        #N(s)\n",
    "        ns[ui][uj] = ns[ui][uj] + 1\n",
    "        \n",
    "        #S(s)\n",
    "        for ugs in gslist:\n",
    "            if(ugs[0] == ust):\n",
    "                ss[ui][uj] = ss[ui][uj] + ugs[3]\n",
    "                break\n",
    "    \n",
    "    itrs = itrs+1\n",
    "    \n",
    "# V(s) = S(s)/N(s)\n",
    "vs = np.divide(ss, ns, where=ss!=0)\n",
    "    \n",
    "print(states)\n",
    "print(ns)\n",
    "print(ss)\n",
    "print(vs)"
   ]
  },
  {
   "cell_type": "markdown",
   "id": "differential-ethnic",
   "metadata": {},
   "source": [
    "### Part 2"
   ]
  },
  {
   "cell_type": "code",
   "execution_count": 17,
   "id": "discrete-relationship",
   "metadata": {},
   "outputs": [],
   "source": [
    "def computevalue(k0,i,row,ev,gamma,ps):\n",
    "    newprob =[]\n",
    "    for j,val in enumerate(row):\n",
    "        \n",
    "        #for termial states, prob=0\n",
    "        if( (i==0 and j==0) or (i==4 and j==4) ):\n",
    "            newprob.append(0)\n",
    "        else:\n",
    "            up    = ev + gamma*(k0[i-1][j] if ((i-1) >= 0) else val)\n",
    "            down  = ev + gamma*(k0[i+1][j] if ((i+1) <= 4) else val)\n",
    "            right = ev + gamma*(k0[i][j+1] if ((j+1) <= 4) else val)\n",
    "            left  = ev + gamma*(k0[i][j-1] if ((j-1) >= 0) else val)\n",
    "            prob = max(up,down,right,left)\n",
    "            \n",
    "            newprob.append(prob)\n",
    "            \n",
    "    return newprob"
   ]
  },
  {
   "cell_type": "code",
   "execution_count": 18,
   "id": "unusual-tomorrow",
   "metadata": {},
   "outputs": [
    {
     "name": "stdout",
     "output_type": "stream",
     "text": [
      "*************\n",
      "Part-2-Value Iteration\n",
      "*************\n",
      "Policy for Iteration: 0\n",
      "*************\n",
      "[[ 0  1  2  3  4]\n",
      " [ 5  6  7  8  9]\n",
      " [10 11 12 13 14]\n",
      " [15 16 17 18 19]\n",
      " [20 21 22 23  0]]\n",
      "*************\n",
      "Policy for Iteration: 1\n",
      "*************\n",
      "[[ 0.  5.  6.  7.  8.]\n",
      " [ 9. 10. 11. 12. 13.]\n",
      " [14. 15. 16. 17. 18.]\n",
      " [19. 20. 21. 22. 18.]\n",
      " [20. 21. 22. 22.  0.]]\n",
      "*************\n",
      "Policy for Iteration: 10\n",
      "*************\n",
      "[[ 0. 13. 13. 13. 13.]\n",
      " [13. 13. 13. 13. 13.]\n",
      " [13. 13. 13. 13. 13.]\n",
      " [13. 13. 13. 13. 13.]\n",
      " [13. 13. 13. 13.  0.]]\n",
      "*************\n",
      "Optimal Policy Converged in iterations: 27\n",
      "*************\n",
      "[[ 0. -1. -2. -3. -4.]\n",
      " [-1. -2. -3. -4. -3.]\n",
      " [-2. -3. -4. -3. -2.]\n",
      " [-3. -4. -3. -2. -1.]\n",
      " [-4. -3. -2. -1.  0.]]\n",
      "*************\n"
     ]
    }
   ],
   "source": [
    "print('*************')\n",
    "print('Part-2-Value Iteration')\n",
    "print('*************')\n",
    "\n",
    "actions = ['u', 'd', 'r', 'l'] #up down right left\n",
    "reward = -1\n",
    "pr = 0.25 #\n",
    "ps = 0.25 #state transition probability\n",
    "gamma = 1 # discount factor\n",
    "\n",
    "ev = sum([reward * pr for i in actions])\n",
    "\n",
    "k0 = np.array([[0,1,2,3,4], [5,6,7,8,9], [10,11,12,13,14], [15,16,17,18,19], [20,21,22,23,0]])\n",
    "\n",
    "itrs = 0\n",
    "while True:\n",
    "    \n",
    "    if(itrs in [0,1,10]):\n",
    "        print('Policy for Iteration:',itrs)\n",
    "        print('*************')\n",
    "        print(k0)\n",
    "        print('*************')\n",
    "    \n",
    "    k1 = np.array([computevalue(k0,i,row,ev,gamma,ps) for i, row in enumerate(k0)])\n",
    "    converged = True\n",
    "    for i,j in zip(k0.ravel(),k1.ravel()):\n",
    "        if(i != j):\n",
    "            converged = False\n",
    "            \n",
    "    if converged:\n",
    "        print('Optimal Policy Converged in iterations:',itrs)\n",
    "        print('*************')\n",
    "        print(k0)\n",
    "        print('*************')\n",
    "        break\n",
    "    else:\n",
    "        k0 = k1\n",
    "        itrs = itrs+1"
   ]
  },
  {
   "cell_type": "code",
   "execution_count": null,
   "id": "hawaiian-utilization",
   "metadata": {},
   "outputs": [],
   "source": []
  }
 ],
 "metadata": {
  "kernelspec": {
   "display_name": "Python 3",
   "language": "python",
   "name": "python3"
  },
  "language_info": {
   "codemirror_mode": {
    "name": "ipython",
    "version": 3
   },
   "file_extension": ".py",
   "mimetype": "text/x-python",
   "name": "python",
   "nbconvert_exporter": "python",
   "pygments_lexer": "ipython3",
   "version": "3.8.8"
  }
 },
 "nbformat": 4,
 "nbformat_minor": 5
}
